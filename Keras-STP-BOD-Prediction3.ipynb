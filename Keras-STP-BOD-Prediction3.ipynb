{
  "nbformat": 4,
  "nbformat_minor": 0,
  "metadata": {
    "colab": {
      "name": "Untitled2.ipynb",
      "provenance": [],
      "collapsed_sections": [],
      "authorship_tag": "ABX9TyMezFe864AjOltBP9QHu9Bm",
      "include_colab_link": true
    },
    "kernelspec": {
      "name": "python3",
      "display_name": "Python 3"
    },
    "language_info": {
      "name": "python"
    }
  },
  "cells": [
    {
      "cell_type": "markdown",
      "metadata": {
        "id": "view-in-github",
        "colab_type": "text"
      },
      "source": [
        "<a href=\"https://colab.research.google.com/github/imhrishita/ML/blob/main/Keras-STP-BOD-Prediction3.ipynb\" target=\"_parent\"><img src=\"https://colab.research.google.com/assets/colab-badge.svg\" alt=\"Open In Colab\"/></a>"
      ]
    },
    {
      "cell_type": "code",
      "metadata": {
        "id": "u4oqPnUjFsgE"
      },
      "source": [
        "import numpy as np\n",
        "import pandas as pd\n",
        "%matplotlib inline\n",
        "import matplotlib as mpl\n",
        "import matplotlib.pyplot as plt\n",
        "import tensorflow as tf\n",
        "from tensorflow import keras"
      ],
      "execution_count": 3,
      "outputs": []
    },
    {
      "cell_type": "code",
      "metadata": {
        "colab": {
          "resources": {
            "http://localhost:8080/nbextensions/google.colab/files.js": {
              "data": "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",
              "ok": true,
              "headers": [
                [
                  "content-type",
                  "application/javascript"
                ]
              ],
              "status": 200,
              "status_text": ""
            }
          },
          "base_uri": "https://localhost:8080/",
          "height": 73
        },
        "id": "GTRH1_LRG54E",
        "outputId": "9b059243-4118-429c-f4f3-e46e1c7d828e"
      },
      "source": [
        "from google.colab import files\n",
        "uploaded = files.upload()"
      ],
      "execution_count": 4,
      "outputs": [
        {
          "output_type": "display_data",
          "data": {
            "text/html": [
              "\n",
              "     <input type=\"file\" id=\"files-ea0aff38-8c43-4504-9f31-cf17d906dc07\" name=\"files[]\" multiple disabled\n",
              "        style=\"border:none\" />\n",
              "     <output id=\"result-ea0aff38-8c43-4504-9f31-cf17d906dc07\">\n",
              "      Upload widget is only available when the cell has been executed in the\n",
              "      current browser session. Please rerun this cell to enable.\n",
              "      </output>\n",
              "      <script src=\"/nbextensions/google.colab/files.js\"></script> "
            ],
            "text/plain": [
              "<IPython.core.display.HTML object>"
            ]
          },
          "metadata": {
            "tags": []
          }
        },
        {
          "output_type": "stream",
          "text": [
            "Saving STP.csv to STP.csv\n"
          ],
          "name": "stdout"
        }
      ]
    },
    {
      "cell_type": "code",
      "metadata": {
        "colab": {
          "base_uri": "https://localhost:8080/"
        },
        "id": "PDPeIOp9HPgq",
        "outputId": "0baa914e-cafd-4299-c258-4856c0fd2c72"
      },
      "source": [
        "stp=pd.read_csv(\"STP.csv\")\n",
        "stp.info()"
      ],
      "execution_count": 5,
      "outputs": [
        {
          "output_type": "stream",
          "text": [
            "<class 'pandas.core.frame.DataFrame'>\n",
            "RangeIndex: 136 entries, 0 to 135\n",
            "Data columns (total 17 columns):\n",
            " #   Column                Non-Null Count  Dtype  \n",
            "---  ------                --------------  -----  \n",
            " 0   Date                  136 non-null    object \n",
            " 1   Influent BOD5         136 non-null    int64  \n",
            " 2   Influent TSS          136 non-null    int64  \n",
            " 3   Influent NH3          136 non-null    float64\n",
            " 4   temperature           136 non-null    float64\n",
            " 5   Influent pH           136 non-null    float64\n",
            " 6   Influent Alkalinity   136 non-null    int64  \n",
            " 7   Effluent BOD5         136 non-null    float64\n",
            " 8   Effluent TSS          136 non-null    float64\n",
            " 9   Effluent NH3          136 non-null    float64\n",
            " 10  Aerobic NOx           136 non-null    float64\n",
            " 11  Effluent pH           136 non-null    float64\n",
            " 12  Field MLSS            136 non-null    float64\n",
            " 13  Anoxic tank DO        136 non-null    float64\n",
            " 14  Aerobic NH3           136 non-null    float64\n",
            " 15  Aerobic DO            136 non-null    float64\n",
            " 16  Unnamed: 16           0 non-null      float64\n",
            "dtypes: float64(13), int64(3), object(1)\n",
            "memory usage: 18.2+ KB\n"
          ],
          "name": "stdout"
        }
      ]
    },
    {
      "cell_type": "code",
      "metadata": {
        "colab": {
          "base_uri": "https://localhost:8080/"
        },
        "id": "79bl1xECjDXj",
        "outputId": "a4eeb69e-48ee-4e4c-d01c-93ce891c9abc"
      },
      "source": [
        "stp.pop('Influent TSS')\n",
        "stp.pop('Effluent TSS')\n",
        "stp.pop('Unnamed: 16')\n",
        "stp.pop('Date')\n",
        "stp.info()"
      ],
      "execution_count": 6,
      "outputs": [
        {
          "output_type": "stream",
          "text": [
            "<class 'pandas.core.frame.DataFrame'>\n",
            "RangeIndex: 136 entries, 0 to 135\n",
            "Data columns (total 13 columns):\n",
            " #   Column                Non-Null Count  Dtype  \n",
            "---  ------                --------------  -----  \n",
            " 0   Influent BOD5         136 non-null    int64  \n",
            " 1   Influent NH3          136 non-null    float64\n",
            " 2   temperature           136 non-null    float64\n",
            " 3   Influent pH           136 non-null    float64\n",
            " 4   Influent Alkalinity   136 non-null    int64  \n",
            " 5   Effluent BOD5         136 non-null    float64\n",
            " 6   Effluent NH3          136 non-null    float64\n",
            " 7   Aerobic NOx           136 non-null    float64\n",
            " 8   Effluent pH           136 non-null    float64\n",
            " 9   Field MLSS            136 non-null    float64\n",
            " 10  Anoxic tank DO        136 non-null    float64\n",
            " 11  Aerobic NH3           136 non-null    float64\n",
            " 12  Aerobic DO            136 non-null    float64\n",
            "dtypes: float64(11), int64(2)\n",
            "memory usage: 13.9 KB\n"
          ],
          "name": "stdout"
        }
      ]
    },
    {
      "cell_type": "code",
      "metadata": {
        "id": "9aqqOJOfj7mW"
      },
      "source": [
        "X=stp.drop(['Effluent BOD5'],axis=1).values\n",
        "y=stp['Effluent BOD5'].values"
      ],
      "execution_count": 7,
      "outputs": []
    },
    {
      "cell_type": "code",
      "metadata": {
        "id": "8kEDoAkcIWHm"
      },
      "source": [
        "from sklearn.model_selection import train_test_split\n",
        "X_train_full,X_test,y_train_full,y_test=train_test_split(X,y,random_state=23)\n",
        "X_train,X_valid,y_train,y_valid=train_test_split(X_train_full,y_train_full, random_state=23)"
      ],
      "execution_count": 113,
      "outputs": []
    },
    {
      "cell_type": "code",
      "metadata": {
        "colab": {
          "base_uri": "https://localhost:8080/"
        },
        "id": "Taujqg6WJsh-",
        "outputId": "58b279a1-1681-4483-ac49-8888bc48fd36"
      },
      "source": [
        "X_train.shape, y_train.shape"
      ],
      "execution_count": 114,
      "outputs": [
        {
          "output_type": "execute_result",
          "data": {
            "text/plain": [
              "((76, 12), (76,))"
            ]
          },
          "metadata": {
            "tags": []
          },
          "execution_count": 114
        }
      ]
    },
    {
      "cell_type": "code",
      "metadata": {
        "colab": {
          "base_uri": "https://localhost:8080/"
        },
        "id": "bnSUHTzYJztZ",
        "outputId": "4c8453c3-34ec-4c99-d134-4b181fc72a61"
      },
      "source": [
        "X_valid.shape, y_valid.shape"
      ],
      "execution_count": 115,
      "outputs": [
        {
          "output_type": "execute_result",
          "data": {
            "text/plain": [
              "((26, 12), (26,))"
            ]
          },
          "metadata": {
            "tags": []
          },
          "execution_count": 115
        }
      ]
    },
    {
      "cell_type": "code",
      "metadata": {
        "colab": {
          "base_uri": "https://localhost:8080/"
        },
        "id": "B5hpB5wPJ8TG",
        "outputId": "934a9a2d-d781-44d3-bde6-a4282d1141ec"
      },
      "source": [
        "X_test.shape, y_test.shape"
      ],
      "execution_count": 116,
      "outputs": [
        {
          "output_type": "execute_result",
          "data": {
            "text/plain": [
              "((34, 12), (34,))"
            ]
          },
          "metadata": {
            "tags": []
          },
          "execution_count": 116
        }
      ]
    },
    {
      "cell_type": "code",
      "metadata": {
        "id": "6RTHb2ZCUVAG"
      },
      "source": [
        "from sklearn.preprocessing import StandardScaler\n",
        "scaler=StandardScaler()\n",
        "X_train=scaler.fit_transform(X_train)\n",
        "X_valid=scaler.transform(X_valid)\n",
        "X_test=scaler.transform(X_test)"
      ],
      "execution_count": 117,
      "outputs": []
    },
    {
      "cell_type": "code",
      "metadata": {
        "id": "Qukdiu4_VodI"
      },
      "source": [
        "np.random.seed(23)\n",
        "tf.random.set_seed(23)"
      ],
      "execution_count": 118,
      "outputs": []
    },
    {
      "cell_type": "code",
      "metadata": {
        "id": "uZAPWAuoV3qn"
      },
      "source": [
        "model = tf.keras.Sequential([\n",
        "    keras.layers.Dense(30, activation=\"relu\", input_shape=[12]),\n",
        "    keras.layers.Dense(30, activation=\"relu\"),\n",
        "    keras.layers.Dense(30, activation=\"sigmoid\"),\n",
        "    keras.layers.Dense(1)\n",
        "])"
      ],
      "execution_count": 119,
      "outputs": []
    },
    {
      "cell_type": "code",
      "metadata": {
        "id": "nJNpcglCX7OT"
      },
      "source": [
        "model.compile(loss=\"mean_squared_error\",\n",
        "              optimizer=keras.optimizers.SGD(learning_rate=1e-2),\n",
        "              metrics=['mae'])"
      ],
      "execution_count": 120,
      "outputs": []
    },
    {
      "cell_type": "code",
      "metadata": {
        "id": "GS64YEMzakjW"
      },
      "source": [
        "checkpoint_cb=keras.callbacks.ModelCheckpoint(\"OptimumTrainedModel.h5\",save_best_only=True)"
      ],
      "execution_count": 121,
      "outputs": []
    },
    {
      "cell_type": "code",
      "metadata": {
        "id": "h8dLPayXbbfk"
      },
      "source": [
        "early_stopping_cb=keras.callbacks.EarlyStopping(patience=10, restore_best_weights=True)"
      ],
      "execution_count": 122,
      "outputs": []
    },
    {
      "cell_type": "code",
      "metadata": {
        "colab": {
          "base_uri": "https://localhost:8080/"
        },
        "id": "vxo17EXcbUrQ",
        "outputId": "ac9db865-039e-4e70-9f6f-8535bc66874a"
      },
      "source": [
        "model_history=model.fit(X_train,y_train, epochs=900, validation_data=(X_valid, y_valid),callbacks=[checkpoint_cb, early_stopping_cb])"
      ],
      "execution_count": 123,
      "outputs": [
        {
          "output_type": "stream",
          "text": [
            "Epoch 1/900\n",
            "3/3 [==============================] - 0s 70ms/step - loss: 25.5157 - mae: 4.3194 - val_loss: 8.1825 - val_mae: 2.3957\n",
            "Epoch 2/900\n",
            "3/3 [==============================] - 0s 12ms/step - loss: 11.5911 - mae: 2.4027 - val_loss: 4.0622 - val_mae: 1.3793\n",
            "Epoch 3/900\n",
            "3/3 [==============================] - 0s 11ms/step - loss: 8.0923 - mae: 1.8175 - val_loss: 2.7632 - val_mae: 1.1262\n",
            "Epoch 4/900\n",
            "3/3 [==============================] - 0s 11ms/step - loss: 6.9027 - mae: 1.6262 - val_loss: 2.5735 - val_mae: 1.1117\n",
            "Epoch 5/900\n",
            "3/3 [==============================] - 0s 11ms/step - loss: 6.6114 - mae: 1.6034 - val_loss: 2.5194 - val_mae: 1.1340\n",
            "Epoch 6/900\n",
            "3/3 [==============================] - 0s 13ms/step - loss: 6.4162 - mae: 1.6267 - val_loss: 2.5244 - val_mae: 1.1494\n",
            "Epoch 7/900\n",
            "3/3 [==============================] - 0s 12ms/step - loss: 6.3166 - mae: 1.6524 - val_loss: 2.4527 - val_mae: 1.1104\n",
            "Epoch 8/900\n",
            "3/3 [==============================] - 0s 13ms/step - loss: 6.2670 - mae: 1.5944 - val_loss: 2.5272 - val_mae: 1.1527\n",
            "Epoch 9/900\n",
            "3/3 [==============================] - 0s 12ms/step - loss: 6.1637 - mae: 1.6301 - val_loss: 2.6193 - val_mae: 1.2087\n",
            "Epoch 10/900\n",
            "3/3 [==============================] - 0s 13ms/step - loss: 5.9980 - mae: 1.6398 - val_loss: 2.5282 - val_mae: 1.1719\n",
            "Epoch 11/900\n",
            "3/3 [==============================] - 0s 14ms/step - loss: 5.8671 - mae: 1.6068 - val_loss: 2.4376 - val_mae: 1.1352\n",
            "Epoch 12/900\n",
            "3/3 [==============================] - 0s 13ms/step - loss: 5.7869 - mae: 1.5572 - val_loss: 2.4008 - val_mae: 1.1238\n",
            "Epoch 13/900\n",
            "3/3 [==============================] - 0s 14ms/step - loss: 5.6873 - mae: 1.5355 - val_loss: 2.4433 - val_mae: 1.1472\n",
            "Epoch 14/900\n",
            "3/3 [==============================] - 0s 15ms/step - loss: 5.5629 - mae: 1.5491 - val_loss: 2.2838 - val_mae: 1.0716\n",
            "Epoch 15/900\n",
            "3/3 [==============================] - 0s 15ms/step - loss: 5.4489 - mae: 1.4852 - val_loss: 2.3037 - val_mae: 1.0872\n",
            "Epoch 16/900\n",
            "3/3 [==============================] - 0s 14ms/step - loss: 5.3312 - mae: 1.4812 - val_loss: 2.2496 - val_mae: 1.0607\n",
            "Epoch 17/900\n",
            "3/3 [==============================] - 0s 13ms/step - loss: 5.3772 - mae: 1.4831 - val_loss: 2.2090 - val_mae: 1.0478\n",
            "Epoch 18/900\n",
            "3/3 [==============================] - 0s 13ms/step - loss: 5.1702 - mae: 1.4368 - val_loss: 2.2937 - val_mae: 1.0799\n",
            "Epoch 19/900\n",
            "3/3 [==============================] - 0s 12ms/step - loss: 5.0473 - mae: 1.4413 - val_loss: 2.2691 - val_mae: 1.0657\n",
            "Epoch 20/900\n",
            "3/3 [==============================] - 0s 14ms/step - loss: 4.9865 - mae: 1.4395 - val_loss: 2.1738 - val_mae: 1.0331\n",
            "Epoch 21/900\n",
            "3/3 [==============================] - 0s 13ms/step - loss: 4.9953 - mae: 1.4057 - val_loss: 2.1405 - val_mae: 1.0234\n",
            "Epoch 22/900\n",
            "3/3 [==============================] - 0s 12ms/step - loss: 4.8957 - mae: 1.3848 - val_loss: 2.1279 - val_mae: 1.0171\n",
            "Epoch 23/900\n",
            "3/3 [==============================] - 0s 12ms/step - loss: 4.8092 - mae: 1.3806 - val_loss: 2.3037 - val_mae: 1.0797\n",
            "Epoch 24/900\n",
            "3/3 [==============================] - 0s 11ms/step - loss: 4.6712 - mae: 1.3909 - val_loss: 2.2014 - val_mae: 1.0405\n",
            "Epoch 25/900\n",
            "3/3 [==============================] - 0s 13ms/step - loss: 4.5948 - mae: 1.3647 - val_loss: 2.2602 - val_mae: 1.0629\n",
            "Epoch 26/900\n",
            "3/3 [==============================] - 0s 13ms/step - loss: 4.5219 - mae: 1.3588 - val_loss: 2.3643 - val_mae: 1.0984\n",
            "Epoch 27/900\n",
            "3/3 [==============================] - 0s 11ms/step - loss: 4.4323 - mae: 1.3649 - val_loss: 2.1917 - val_mae: 1.0385\n",
            "Epoch 28/900\n",
            "3/3 [==============================] - 0s 13ms/step - loss: 4.4110 - mae: 1.3417 - val_loss: 2.1738 - val_mae: 1.0288\n",
            "Epoch 29/900\n",
            "3/3 [==============================] - 0s 14ms/step - loss: 4.2924 - mae: 1.3192 - val_loss: 2.3228 - val_mae: 1.0735\n",
            "Epoch 30/900\n",
            "3/3 [==============================] - 0s 14ms/step - loss: 4.2091 - mae: 1.3237 - val_loss: 2.2164 - val_mae: 1.0416\n",
            "Epoch 31/900\n",
            "3/3 [==============================] - 0s 12ms/step - loss: 4.1467 - mae: 1.3047 - val_loss: 2.3686 - val_mae: 1.0866\n",
            "Epoch 32/900\n",
            "3/3 [==============================] - 0s 15ms/step - loss: 4.0697 - mae: 1.3031 - val_loss: 2.3536 - val_mae: 1.0779\n"
          ],
          "name": "stdout"
        }
      ]
    },
    {
      "cell_type": "code",
      "metadata": {
        "colab": {
          "base_uri": "https://localhost:8080/"
        },
        "id": "3-PBCWdxcpQr",
        "outputId": "52e93e36-0de1-4c5f-b502-ebbad989e4df"
      },
      "source": [
        "mae_test=model.evaluate(X_test,y_test)"
      ],
      "execution_count": 124,
      "outputs": [
        {
          "output_type": "stream",
          "text": [
            "2/2 [==============================] - 0s 7ms/step - loss: 2.1553 - mae: 1.1108\n"
          ],
          "name": "stdout"
        }
      ]
    },
    {
      "cell_type": "code",
      "metadata": {
        "colab": {
          "base_uri": "https://localhost:8080/"
        },
        "id": "Idwl1kd1c9mj",
        "outputId": "c7fedfcc-ddd8-4ede-c828-3b95386f14e0"
      },
      "source": [
        "model_history.history"
      ],
      "execution_count": 126,
      "outputs": [
        {
          "output_type": "execute_result",
          "data": {
            "text/plain": [
              "{'loss': [25.515701293945312,\n",
              "  11.591137886047363,\n",
              "  8.092293739318848,\n",
              "  6.902685642242432,\n",
              "  6.61137580871582,\n",
              "  6.416162014007568,\n",
              "  6.316555976867676,\n",
              "  6.267023086547852,\n",
              "  6.163740634918213,\n",
              "  5.998022556304932,\n",
              "  5.867115497589111,\n",
              "  5.786901950836182,\n",
              "  5.687270641326904,\n",
              "  5.562889099121094,\n",
              "  5.448863983154297,\n",
              "  5.331239223480225,\n",
              "  5.377222061157227,\n",
              "  5.170211315155029,\n",
              "  5.047287940979004,\n",
              "  4.986454010009766,\n",
              "  4.995291709899902,\n",
              "  4.895650863647461,\n",
              "  4.809196949005127,\n",
              "  4.671164035797119,\n",
              "  4.594759464263916,\n",
              "  4.52187967300415,\n",
              "  4.43229341506958,\n",
              "  4.411042213439941,\n",
              "  4.2923784255981445,\n",
              "  4.209110260009766,\n",
              "  4.1466827392578125,\n",
              "  4.069723129272461],\n",
              " 'mae': [4.319427013397217,\n",
              "  2.402707576751709,\n",
              "  1.8174952268600464,\n",
              "  1.626198172569275,\n",
              "  1.603446364402771,\n",
              "  1.626656413078308,\n",
              "  1.6523617506027222,\n",
              "  1.5943671464920044,\n",
              "  1.6300956010818481,\n",
              "  1.639752984046936,\n",
              "  1.6068235635757446,\n",
              "  1.5571544170379639,\n",
              "  1.5354952812194824,\n",
              "  1.5490968227386475,\n",
              "  1.485215187072754,\n",
              "  1.4811525344848633,\n",
              "  1.4831151962280273,\n",
              "  1.4367518424987793,\n",
              "  1.4413176774978638,\n",
              "  1.4394508600234985,\n",
              "  1.405685544013977,\n",
              "  1.3848434686660767,\n",
              "  1.3806403875350952,\n",
              "  1.390863060951233,\n",
              "  1.3647218942642212,\n",
              "  1.358788251876831,\n",
              "  1.3648542165756226,\n",
              "  1.341659426689148,\n",
              "  1.31924307346344,\n",
              "  1.3237050771713257,\n",
              "  1.3046810626983643,\n",
              "  1.303126335144043],\n",
              " 'val_loss': [8.182469367980957,\n",
              "  4.0622477531433105,\n",
              "  2.7631709575653076,\n",
              "  2.5735204219818115,\n",
              "  2.519355297088623,\n",
              "  2.5244436264038086,\n",
              "  2.452664852142334,\n",
              "  2.527237892150879,\n",
              "  2.6192612648010254,\n",
              "  2.5282304286956787,\n",
              "  2.4375627040863037,\n",
              "  2.400824546813965,\n",
              "  2.4432835578918457,\n",
              "  2.2837636470794678,\n",
              "  2.3036859035491943,\n",
              "  2.2496166229248047,\n",
              "  2.2089972496032715,\n",
              "  2.293734073638916,\n",
              "  2.2691330909729004,\n",
              "  2.1737828254699707,\n",
              "  2.1405115127563477,\n",
              "  2.127943277359009,\n",
              "  2.303683280944824,\n",
              "  2.201429605484009,\n",
              "  2.2602028846740723,\n",
              "  2.3642640113830566,\n",
              "  2.1917195320129395,\n",
              "  2.1737704277038574,\n",
              "  2.322753667831421,\n",
              "  2.2164018154144287,\n",
              "  2.3685646057128906,\n",
              "  2.353646993637085],\n",
              " 'val_mae': [2.3957455158233643,\n",
              "  1.3792635202407837,\n",
              "  1.1262364387512207,\n",
              "  1.1116902828216553,\n",
              "  1.1340476274490356,\n",
              "  1.149434208869934,\n",
              "  1.1103984117507935,\n",
              "  1.152724027633667,\n",
              "  1.2086513042449951,\n",
              "  1.1718961000442505,\n",
              "  1.1352298259735107,\n",
              "  1.1238188743591309,\n",
              "  1.1471631526947021,\n",
              "  1.0716078281402588,\n",
              "  1.087180256843567,\n",
              "  1.0606516599655151,\n",
              "  1.0478013753890991,\n",
              "  1.0799081325531006,\n",
              "  1.0656635761260986,\n",
              "  1.0331132411956787,\n",
              "  1.0233832597732544,\n",
              "  1.0170961618423462,\n",
              "  1.0796821117401123,\n",
              "  1.0405216217041016,\n",
              "  1.0629349946975708,\n",
              "  1.0984326601028442,\n",
              "  1.0385292768478394,\n",
              "  1.0287530422210693,\n",
              "  1.0734858512878418,\n",
              "  1.0416432619094849,\n",
              "  1.0865685939788818,\n",
              "  1.0778899192810059]}"
            ]
          },
          "metadata": {
            "tags": []
          },
          "execution_count": 126
        }
      ]
    },
    {
      "cell_type": "code",
      "metadata": {
        "colab": {
          "base_uri": "https://localhost:8080/",
          "height": 265
        },
        "id": "EF7DkoekdB-B",
        "outputId": "a7583c43-4dde-4128-c785-202bffc8f621"
      },
      "source": [
        "pd.DataFrame(model_history.history).plot(kind='line')\n",
        "plt.grid(True)\n",
        "plt.show()"
      ],
      "execution_count": 127,
      "outputs": [
        {
          "output_type": "display_data",
          "data": {
            "image/png": "[encoded data removed]",
            "text/plain": [
              "<Figure size 432x288 with 1 Axes>"
            ]
          },
          "metadata": {
            "tags": [],
            "needs_background": "light"
          }
        }
      ]
    },
    {
      "cell_type": "code",
      "metadata": {
        "colab": {
          "base_uri": "https://localhost:8080/"
        },
        "id": "fGWAi_tEezF8",
        "outputId": "e91c7f1b-ea57-41c5-b116-56f849b677a3"
      },
      "source": [
        "y_predict=model.predict(X_test)\n",
        "y_predict,y_test.round(4)"
      ],
      "execution_count": 128,
      "outputs": [
        {
          "output_type": "stream",
          "text": [
            "WARNING:tensorflow:6 out of the last 11 calls to <function Model.make_predict_function.<locals>.predict_function at 0x7fa8a11549e0> triggered tf.function retracing. Tracing is expensive and the excessive number of tracings could be due to (1) creating @tf.function repeatedly in a loop, (2) passing tensors with different shapes, (3) passing Python objects instead of tensors. For (1), please define your @tf.function outside of the loop. For (2), @tf.function has experimental_relax_shapes=True option that relaxes argument shapes that can avoid unnecessary retracing. For (3), please refer to https://www.tensorflow.org/guide/function#controlling_retracing and https://www.tensorflow.org/api_docs/python/tf/function for  more details.\n"
          ],
          "name": "stdout"
        },
        {
          "output_type": "execute_result",
          "data": {
            "text/plain": [
              "(array([[3.241973 ],\n",
              "        [5.4583826],\n",
              "        [4.6782193],\n",
              "        [3.7271118],\n",
              "        [4.1513352],\n",
              "        [5.270622 ],\n",
              "        [4.824537 ],\n",
              "        [3.931946 ],\n",
              "        [3.959938 ],\n",
              "        [3.3468134],\n",
              "        [5.3300114],\n",
              "        [4.5086894],\n",
              "        [3.6567354],\n",
              "        [3.8301442],\n",
              "        [5.063445 ],\n",
              "        [4.2516837],\n",
              "        [4.824745 ],\n",
              "        [4.9561744],\n",
              "        [4.107559 ],\n",
              "        [3.737052 ],\n",
              "        [4.394104 ],\n",
              "        [5.4794664],\n",
              "        [5.364946 ],\n",
              "        [3.679769 ],\n",
              "        [4.50734  ],\n",
              "        [4.682631 ],\n",
              "        [5.324393 ],\n",
              "        [4.117063 ],\n",
              "        [4.4639573],\n",
              "        [5.059511 ],\n",
              "        [5.1244783],\n",
              "        [2.9126132],\n",
              "        [3.3524463],\n",
              "        [3.8108208]], dtype=float32),\n",
              " array([2.95, 4.  , 2.  , 3.84, 2.  , 3.  , 1.  , 2.33, 5.  , 3.57, 2.  ,\n",
              "        6.  , 4.  , 4.6 , 5.5 , 2.46, 3.  , 5.  , 4.  , 3.73, 4.  , 4.  ,\n",
              "        4.5 , 3.87, 4.  , 5.  , 5.78, 3.5 , 4.  , 4.  , 4.2 , 1.26, 1.  ,\n",
              "        4.5 ]))"
            ]
          },
          "metadata": {
            "tags": []
          },
          "execution_count": 128
        }
      ]
    }
  ]
}