{
  "nbformat": 4,
  "nbformat_minor": 0,
  "metadata": {
    "colab": {
      "name": "Untitled2.ipynb",
      "provenance": [],
      "collapsed_sections": [],
      "authorship_tag": "ABX9TyOndhD/SHy58FK7+in1Oxtr",
      "include_colab_link": true
    },
    "kernelspec": {
      "name": "python3",
      "display_name": "Python 3"
    },
    "language_info": {
      "name": "python"
    }
  },
  "cells": [
    {
      "cell_type": "markdown",
      "metadata": {
        "id": "view-in-github",
        "colab_type": "text"
      },
      "source": [
        "<a href=\"https://colab.research.google.com/github/imhrishita/ML/blob/main/Keras-STP-BOD-Prediction4.ipynb\" target=\"_parent\"><img src=\"https://colab.research.google.com/assets/colab-badge.svg\" alt=\"Open In Colab\"/></a>"
      ]
    },
    {
      "cell_type": "code",
      "metadata": {
        "id": "u4oqPnUjFsgE"
      },
      "source": [
        "import numpy as np\n",
        "import pandas as pd\n",
        "%matplotlib inline\n",
        "import matplotlib as mpl\n",
        "import matplotlib.pyplot as plt\n",
        "import tensorflow as tf\n",
        "from tensorflow import keras"
      ],
      "execution_count": 3,
      "outputs": []
    },
    {
      "cell_type": "code",
      "metadata": {
        "colab": {
          "resources": {
            "http://localhost:8080/nbextensions/google.colab/files.js": {
              "data": "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",
              "ok": true,
              "headers": [
                [
                  "content-type",
                  "application/javascript"
                ]
              ],
              "status": 200,
              "status_text": ""
            }
          },
          "base_uri": "https://localhost:8080/",
          "height": 73
        },
        "id": "GTRH1_LRG54E",
        "outputId": "9b059243-4118-429c-f4f3-e46e1c7d828e"
      },
      "source": [
        "from google.colab import files\n",
        "uploaded = files.upload()"
      ],
      "execution_count": 4,
      "outputs": [
        {
          "output_type": "display_data",
          "data": {
            "text/html": [
              "\n",
              "     <input type=\"file\" id=\"files-ea0aff38-8c43-4504-9f31-cf17d906dc07\" name=\"files[]\" multiple disabled\n",
              "        style=\"border:none\" />\n",
              "     <output id=\"result-ea0aff38-8c43-4504-9f31-cf17d906dc07\">\n",
              "      Upload widget is only available when the cell has been executed in the\n",
              "      current browser session. Please rerun this cell to enable.\n",
              "      </output>\n",
              "      <script src=\"/nbextensions/google.colab/files.js\"></script> "
            ],
            "text/plain": [
              "<IPython.core.display.HTML object>"
            ]
          },
          "metadata": {
            "tags": []
          }
        },
        {
          "output_type": "stream",
          "text": [
            "Saving STP.csv to STP.csv\n"
          ],
          "name": "stdout"
        }
      ]
    },
    {
      "cell_type": "code",
      "metadata": {
        "colab": {
          "base_uri": "https://localhost:8080/"
        },
        "id": "PDPeIOp9HPgq",
        "outputId": "0baa914e-cafd-4299-c258-4856c0fd2c72"
      },
      "source": [
        "stp=pd.read_csv(\"STP.csv\")\n",
        "stp.info()"
      ],
      "execution_count": 5,
      "outputs": [
        {
          "output_type": "stream",
          "text": [
            "<class 'pandas.core.frame.DataFrame'>\n",
            "RangeIndex: 136 entries, 0 to 135\n",
            "Data columns (total 17 columns):\n",
            " #   Column                Non-Null Count  Dtype  \n",
            "---  ------                --------------  -----  \n",
            " 0   Date                  136 non-null    object \n",
            " 1   Influent BOD5         136 non-null    int64  \n",
            " 2   Influent TSS          136 non-null    int64  \n",
            " 3   Influent NH3          136 non-null    float64\n",
            " 4   temperature           136 non-null    float64\n",
            " 5   Influent pH           136 non-null    float64\n",
            " 6   Influent Alkalinity   136 non-null    int64  \n",
            " 7   Effluent BOD5         136 non-null    float64\n",
            " 8   Effluent TSS          136 non-null    float64\n",
            " 9   Effluent NH3          136 non-null    float64\n",
            " 10  Aerobic NOx           136 non-null    float64\n",
            " 11  Effluent pH           136 non-null    float64\n",
            " 12  Field MLSS            136 non-null    float64\n",
            " 13  Anoxic tank DO        136 non-null    float64\n",
            " 14  Aerobic NH3           136 non-null    float64\n",
            " 15  Aerobic DO            136 non-null    float64\n",
            " 16  Unnamed: 16           0 non-null      float64\n",
            "dtypes: float64(13), int64(3), object(1)\n",
            "memory usage: 18.2+ KB\n"
          ],
          "name": "stdout"
        }
      ]
    },
    {
      "cell_type": "code",
      "metadata": {
        "colab": {
          "base_uri": "https://localhost:8080/"
        },
        "id": "79bl1xECjDXj",
        "outputId": "a4eeb69e-48ee-4e4c-d01c-93ce891c9abc"
      },
      "source": [
        "stp.pop('Influent TSS')\n",
        "stp.pop('Effluent TSS')\n",
        "stp.pop('Unnamed: 16')\n",
        "stp.pop('Date')\n",
        "stp.info()"
      ],
      "execution_count": 6,
      "outputs": [
        {
          "output_type": "stream",
          "text": [
            "<class 'pandas.core.frame.DataFrame'>\n",
            "RangeIndex: 136 entries, 0 to 135\n",
            "Data columns (total 13 columns):\n",
            " #   Column                Non-Null Count  Dtype  \n",
            "---  ------                --------------  -----  \n",
            " 0   Influent BOD5         136 non-null    int64  \n",
            " 1   Influent NH3          136 non-null    float64\n",
            " 2   temperature           136 non-null    float64\n",
            " 3   Influent pH           136 non-null    float64\n",
            " 4   Influent Alkalinity   136 non-null    int64  \n",
            " 5   Effluent BOD5         136 non-null    float64\n",
            " 6   Effluent NH3          136 non-null    float64\n",
            " 7   Aerobic NOx           136 non-null    float64\n",
            " 8   Effluent pH           136 non-null    float64\n",
            " 9   Field MLSS            136 non-null    float64\n",
            " 10  Anoxic tank DO        136 non-null    float64\n",
            " 11  Aerobic NH3           136 non-null    float64\n",
            " 12  Aerobic DO            136 non-null    float64\n",
            "dtypes: float64(11), int64(2)\n",
            "memory usage: 13.9 KB\n"
          ],
          "name": "stdout"
        }
      ]
    },
    {
      "cell_type": "code",
      "metadata": {
        "id": "9aqqOJOfj7mW"
      },
      "source": [
        "X=stp.drop(['Effluent BOD5'],axis=1).values\n",
        "y=stp['Effluent BOD5'].values"
      ],
      "execution_count": 7,
      "outputs": []
    },
    {
      "cell_type": "code",
      "metadata": {
        "id": "8kEDoAkcIWHm"
      },
      "source": [
        "from sklearn.model_selection import train_test_split\n",
        "X_train_full,X_test,y_train_full,y_test=train_test_split(X,y,random_state=23)\n",
        "X_train,X_valid,y_train,y_valid=train_test_split(X_train_full,y_train_full, random_state=23)"
      ],
      "execution_count": 113,
      "outputs": []
    },
    {
      "cell_type": "code",
      "metadata": {
        "colab": {
          "base_uri": "https://localhost:8080/"
        },
        "id": "Taujqg6WJsh-",
        "outputId": "58b279a1-1681-4483-ac49-8888bc48fd36"
      },
      "source": [
        "X_train.shape, y_train.shape"
      ],
      "execution_count": 114,
      "outputs": [
        {
          "output_type": "execute_result",
          "data": {
            "text/plain": [
              "((76, 12), (76,))"
            ]
          },
          "metadata": {
            "tags": []
          },
          "execution_count": 114
        }
      ]
    },
    {
      "cell_type": "code",
      "metadata": {
        "colab": {
          "base_uri": "https://localhost:8080/"
        },
        "id": "bnSUHTzYJztZ",
        "outputId": "4c8453c3-34ec-4c99-d134-4b181fc72a61"
      },
      "source": [
        "X_valid.shape, y_valid.shape"
      ],
      "execution_count": 115,
      "outputs": [
        {
          "output_type": "execute_result",
          "data": {
            "text/plain": [
              "((26, 12), (26,))"
            ]
          },
          "metadata": {
            "tags": []
          },
          "execution_count": 115
        }
      ]
    },
    {
      "cell_type": "code",
      "metadata": {
        "colab": {
          "base_uri": "https://localhost:8080/"
        },
        "id": "B5hpB5wPJ8TG",
        "outputId": "934a9a2d-d781-44d3-bde6-a4282d1141ec"
      },
      "source": [
        "X_test.shape, y_test.shape"
      ],
      "execution_count": 116,
      "outputs": [
        {
          "output_type": "execute_result",
          "data": {
            "text/plain": [
              "((34, 12), (34,))"
            ]
          },
          "metadata": {
            "tags": []
          },
          "execution_count": 116
        }
      ]
    },
    {
      "cell_type": "code",
      "metadata": {
        "id": "6RTHb2ZCUVAG"
      },
      "source": [
        "from sklearn.preprocessing import StandardScaler\n",
        "scaler=StandardScaler()\n",
        "X_train=scaler.fit_transform(X_train)\n",
        "X_valid=scaler.transform(X_valid)\n",
        "X_test=scaler.transform(X_test)"
      ],
      "execution_count": 117,
      "outputs": []
    },
    {
      "cell_type": "code",
      "metadata": {
        "id": "Qukdiu4_VodI"
      },
      "source": [
        "np.random.seed(23)\n",
        "tf.random.set_seed(23)"
      ],
      "execution_count": 118,
      "outputs": []
    },
    {
      "cell_type": "code",
      "metadata": {
        "id": "uZAPWAuoV3qn"
      },
      "source": [
        "inputs = keras.Input(shape=(12,))\n",
        "x = keras.layers.Dense(100, activation=\"relu\", name=\"dense_1\")(inputs)\n",
        "x = keras.layers.Dense(30, activation=\"relu\", name=\"dense_2\")(x)\n",
        "x = keras.layers.Dense(30, activation=\"sigmoid\", name=\"dense_3\")(x)\n",
        "outputs = keras.layers.Dense(1, name=\"predictions\")(x)\n",
        "\n",
        "model = keras.Model(inputs=inputs, outputs=outputs)"
      ],
      "execution_count": 167,
      "outputs": []
    },
    {
      "cell_type": "code",
      "metadata": {
        "id": "nJNpcglCX7OT"
      },
      "source": [
        "model.compile(loss=\"mean_squared_error\",\n",
        "              optimizer=keras.optimizers.SGD(learning_rate=1e-2),\n",
        "              metrics=['mae'])"
      ],
      "execution_count": 168,
      "outputs": []
    },
    {
      "cell_type": "code",
      "metadata": {
        "id": "GS64YEMzakjW"
      },
      "source": [
        "checkpoint_cb=keras.callbacks.ModelCheckpoint(\"OptimumTrainedModel.h5\",save_best_only=True)"
      ],
      "execution_count": 169,
      "outputs": []
    },
    {
      "cell_type": "code",
      "metadata": {
        "id": "h8dLPayXbbfk"
      },
      "source": [
        "early_stopping_cb=keras.callbacks.EarlyStopping(patience=10, restore_best_weights=True)"
      ],
      "execution_count": 170,
      "outputs": []
    },
    {
      "cell_type": "code",
      "metadata": {
        "colab": {
          "base_uri": "https://localhost:8080/"
        },
        "id": "vxo17EXcbUrQ",
        "outputId": "c788a502-8da6-4d6e-9a17-f1aeca97d038"
      },
      "source": [
        "model_history=model.fit(X_train,y_train, epochs=500, validation_data=(X_valid, y_valid),callbacks=[checkpoint_cb, early_stopping_cb])"
      ],
      "execution_count": 171,
      "outputs": [
        {
          "output_type": "stream",
          "text": [
            "Epoch 1/500\n",
            "3/3 [==============================] - 0s 74ms/step - loss: 13.6550 - mae: 2.6868 - val_loss: 4.5746 - val_mae: 1.5364\n",
            "Epoch 2/500\n",
            "3/3 [==============================] - 0s 12ms/step - loss: 8.6027 - mae: 1.8912 - val_loss: 3.1976 - val_mae: 1.2300\n",
            "Epoch 3/500\n",
            "3/3 [==============================] - 0s 10ms/step - loss: 7.3334 - mae: 1.7086 - val_loss: 2.6951 - val_mae: 1.1550\n",
            "Epoch 4/500\n",
            "3/3 [==============================] - 0s 10ms/step - loss: 6.7926 - mae: 1.6700 - val_loss: 2.6094 - val_mae: 1.1485\n",
            "Epoch 5/500\n",
            "3/3 [==============================] - 0s 10ms/step - loss: 6.6169 - mae: 1.6612 - val_loss: 2.5702 - val_mae: 1.1774\n",
            "Epoch 6/500\n",
            "3/3 [==============================] - 0s 13ms/step - loss: 6.4347 - mae: 1.6824 - val_loss: 2.5546 - val_mae: 1.1843\n",
            "Epoch 7/500\n",
            "3/3 [==============================] - 0s 13ms/step - loss: 6.3179 - mae: 1.6897 - val_loss: 2.5003 - val_mae: 1.1489\n",
            "Epoch 8/500\n",
            "3/3 [==============================] - 0s 10ms/step - loss: 6.2493 - mae: 1.6442 - val_loss: 2.5345 - val_mae: 1.1852\n",
            "Epoch 9/500\n",
            "3/3 [==============================] - 0s 11ms/step - loss: 6.1191 - mae: 1.6624 - val_loss: 2.5899 - val_mae: 1.2095\n",
            "Epoch 10/500\n",
            "3/3 [==============================] - 0s 12ms/step - loss: 5.9316 - mae: 1.6684 - val_loss: 2.5206 - val_mae: 1.1875\n",
            "Epoch 11/500\n",
            "3/3 [==============================] - 0s 11ms/step - loss: 5.7743 - mae: 1.6474 - val_loss: 2.4253 - val_mae: 1.1463\n",
            "Epoch 12/500\n",
            "3/3 [==============================] - 0s 11ms/step - loss: 5.6666 - mae: 1.5957 - val_loss: 2.3746 - val_mae: 1.1286\n",
            "Epoch 13/500\n",
            "3/3 [==============================] - 0s 12ms/step - loss: 5.5401 - mae: 1.5624 - val_loss: 2.3939 - val_mae: 1.1489\n",
            "Epoch 14/500\n",
            "3/3 [==============================] - 0s 13ms/step - loss: 5.3935 - mae: 1.5748 - val_loss: 2.2431 - val_mae: 1.0685\n",
            "Epoch 15/500\n",
            "3/3 [==============================] - 0s 12ms/step - loss: 5.2643 - mae: 1.5069 - val_loss: 2.2529 - val_mae: 1.0870\n",
            "Epoch 16/500\n",
            "3/3 [==============================] - 0s 12ms/step - loss: 5.1251 - mae: 1.5058 - val_loss: 2.1906 - val_mae: 1.0568\n",
            "Epoch 17/500\n",
            "3/3 [==============================] - 0s 13ms/step - loss: 5.1315 - mae: 1.5019 - val_loss: 2.1465 - val_mae: 1.0358\n",
            "Epoch 18/500\n",
            "3/3 [==============================] - 0s 14ms/step - loss: 4.9266 - mae: 1.4416 - val_loss: 2.1938 - val_mae: 1.0705\n",
            "Epoch 19/500\n",
            "3/3 [==============================] - 0s 11ms/step - loss: 4.7983 - mae: 1.4433 - val_loss: 2.1685 - val_mae: 1.0609\n",
            "Epoch 20/500\n",
            "3/3 [==============================] - 0s 11ms/step - loss: 4.7227 - mae: 1.4340 - val_loss: 2.0867 - val_mae: 1.0169\n",
            "Epoch 21/500\n",
            "3/3 [==============================] - 0s 12ms/step - loss: 4.7223 - mae: 1.3906 - val_loss: 2.0637 - val_mae: 0.9956\n",
            "Epoch 22/500\n",
            "3/3 [==============================] - 0s 11ms/step - loss: 4.6171 - mae: 1.3722 - val_loss: 2.0501 - val_mae: 0.9871\n",
            "Epoch 23/500\n",
            "3/3 [==============================] - 0s 12ms/step - loss: 4.5224 - mae: 1.3535 - val_loss: 2.1840 - val_mae: 1.0743\n",
            "Epoch 24/500\n",
            "3/3 [==============================] - 0s 12ms/step - loss: 4.3823 - mae: 1.3751 - val_loss: 2.0929 - val_mae: 1.0222\n",
            "Epoch 25/500\n",
            "3/3 [==============================] - 0s 13ms/step - loss: 4.2973 - mae: 1.3359 - val_loss: 2.1427 - val_mae: 1.0549\n",
            "Epoch 26/500\n",
            "3/3 [==============================] - 0s 10ms/step - loss: 4.2294 - mae: 1.3365 - val_loss: 2.2278 - val_mae: 1.0996\n",
            "Epoch 27/500\n",
            "3/3 [==============================] - 0s 11ms/step - loss: 4.1365 - mae: 1.3563 - val_loss: 2.0719 - val_mae: 1.0095\n",
            "Epoch 28/500\n",
            "3/3 [==============================] - 0s 11ms/step - loss: 4.0870 - mae: 1.2961 - val_loss: 2.0559 - val_mae: 0.9958\n",
            "Epoch 29/500\n",
            "3/3 [==============================] - 0s 14ms/step - loss: 3.9738 - mae: 1.2608 - val_loss: 2.1776 - val_mae: 1.0720\n",
            "Epoch 30/500\n",
            "3/3 [==============================] - 0s 11ms/step - loss: 3.8972 - mae: 1.3021 - val_loss: 2.0869 - val_mae: 1.0144\n",
            "Epoch 31/500\n",
            "3/3 [==============================] - 0s 11ms/step - loss: 3.8248 - mae: 1.2454 - val_loss: 2.1951 - val_mae: 1.0733\n",
            "Epoch 32/500\n",
            "3/3 [==============================] - 0s 11ms/step - loss: 3.7476 - mae: 1.2625 - val_loss: 2.1722 - val_mae: 1.0562\n"
          ],
          "name": "stdout"
        }
      ]
    },
    {
      "cell_type": "code",
      "metadata": {
        "colab": {
          "base_uri": "https://localhost:8080/"
        },
        "id": "3-PBCWdxcpQr",
        "outputId": "1af31b15-c135-43f6-98b8-63efcd8b8309"
      },
      "source": [
        "mae_test=model.evaluate(X_test,y_test)"
      ],
      "execution_count": 172,
      "outputs": [
        {
          "output_type": "stream",
          "text": [
            "2/2 [==============================] - 0s 5ms/step - loss: 2.1278 - mae: 1.1175\n"
          ],
          "name": "stdout"
        }
      ]
    },
    {
      "cell_type": "code",
      "metadata": {
        "colab": {
          "base_uri": "https://localhost:8080/"
        },
        "id": "Idwl1kd1c9mj",
        "outputId": "74129cff-4e4d-4b72-d6ce-c387540f273c"
      },
      "source": [
        "model_history.history"
      ],
      "execution_count": 173,
      "outputs": [
        {
          "output_type": "execute_result",
          "data": {
            "text/plain": [
              "{'loss': [13.654974937438965,\n",
              "  8.602673530578613,\n",
              "  7.33335542678833,\n",
              "  6.792591094970703,\n",
              "  6.6169352531433105,\n",
              "  6.4346537590026855,\n",
              "  6.317862033843994,\n",
              "  6.249255657196045,\n",
              "  6.1191086769104,\n",
              "  5.931559085845947,\n",
              "  5.774347305297852,\n",
              "  5.666602611541748,\n",
              "  5.5400567054748535,\n",
              "  5.393511772155762,\n",
              "  5.264315605163574,\n",
              "  5.125064849853516,\n",
              "  5.131494045257568,\n",
              "  4.926578998565674,\n",
              "  4.798322677612305,\n",
              "  4.722713947296143,\n",
              "  4.722301959991455,\n",
              "  4.617068290710449,\n",
              "  4.522388458251953,\n",
              "  4.382253170013428,\n",
              "  4.297266483306885,\n",
              "  4.229438304901123,\n",
              "  4.13652229309082,\n",
              "  4.086986541748047,\n",
              "  3.973844528198242,\n",
              "  3.8971855640411377,\n",
              "  3.82476806640625,\n",
              "  3.7475602626800537],\n",
              " 'mae': [2.6867547035217285,\n",
              "  1.891217827796936,\n",
              "  1.7086089849472046,\n",
              "  1.669965386390686,\n",
              "  1.6611567735671997,\n",
              "  1.6824026107788086,\n",
              "  1.6897350549697876,\n",
              "  1.6441951990127563,\n",
              "  1.6624116897583008,\n",
              "  1.6684101819992065,\n",
              "  1.6474064588546753,\n",
              "  1.595705270767212,\n",
              "  1.5624003410339355,\n",
              "  1.574824333190918,\n",
              "  1.5069071054458618,\n",
              "  1.5057810544967651,\n",
              "  1.5019004344940186,\n",
              "  1.441580891609192,\n",
              "  1.443328619003296,\n",
              "  1.4339607954025269,\n",
              "  1.390566349029541,\n",
              "  1.3722363710403442,\n",
              "  1.353487491607666,\n",
              "  1.375083565711975,\n",
              "  1.3358997106552124,\n",
              "  1.3364615440368652,\n",
              "  1.3562999963760376,\n",
              "  1.2961061000823975,\n",
              "  1.2608307600021362,\n",
              "  1.3021266460418701,\n",
              "  1.2454471588134766,\n",
              "  1.262475848197937],\n",
              " 'val_loss': [4.57463264465332,\n",
              "  3.1975576877593994,\n",
              "  2.6951303482055664,\n",
              "  2.60941481590271,\n",
              "  2.5702035427093506,\n",
              "  2.5545780658721924,\n",
              "  2.500305414199829,\n",
              "  2.5345394611358643,\n",
              "  2.589949131011963,\n",
              "  2.520555257797241,\n",
              "  2.4252562522888184,\n",
              "  2.3745763301849365,\n",
              "  2.3938868045806885,\n",
              "  2.2431325912475586,\n",
              "  2.2528913021087646,\n",
              "  2.1906187534332275,\n",
              "  2.1464688777923584,\n",
              "  2.19382381439209,\n",
              "  2.168483257293701,\n",
              "  2.0866940021514893,\n",
              "  2.0637147426605225,\n",
              "  2.05009126663208,\n",
              "  2.1839659214019775,\n",
              "  2.092898368835449,\n",
              "  2.142712116241455,\n",
              "  2.2277719974517822,\n",
              "  2.071852207183838,\n",
              "  2.0558671951293945,\n",
              "  2.177616834640503,\n",
              "  2.0868635177612305,\n",
              "  2.1950769424438477,\n",
              "  2.1721603870391846],\n",
              " 'val_mae': [1.5363723039627075,\n",
              "  1.2300418615341187,\n",
              "  1.1550064086914062,\n",
              "  1.1484612226486206,\n",
              "  1.177422285079956,\n",
              "  1.1843241453170776,\n",
              "  1.1489416360855103,\n",
              "  1.185160517692566,\n",
              "  1.2094690799713135,\n",
              "  1.1875200271606445,\n",
              "  1.1463440656661987,\n",
              "  1.1286101341247559,\n",
              "  1.1488854885101318,\n",
              "  1.0685057640075684,\n",
              "  1.0869555473327637,\n",
              "  1.0567855834960938,\n",
              "  1.035847783088684,\n",
              "  1.0705386400222778,\n",
              "  1.0608502626419067,\n",
              "  1.0169281959533691,\n",
              "  0.995561957359314,\n",
              "  0.9871366024017334,\n",
              "  1.0742899179458618,\n",
              "  1.022240161895752,\n",
              "  1.0548533201217651,\n",
              "  1.09961998462677,\n",
              "  1.0095280408859253,\n",
              "  0.9958387613296509,\n",
              "  1.072023630142212,\n",
              "  1.0143924951553345,\n",
              "  1.0733227729797363,\n",
              "  1.05621337890625]}"
            ]
          },
          "metadata": {
            "tags": []
          },
          "execution_count": 173
        }
      ]
    },
    {
      "cell_type": "code",
      "metadata": {
        "colab": {
          "base_uri": "https://localhost:8080/",
          "height": 265
        },
        "id": "EF7DkoekdB-B",
        "outputId": "a2e8b5db-a2e9-40de-d294-2cce9bd811a1"
      },
      "source": [
        "pd.DataFrame(model_history.history).plot(kind='line')\n",
        "plt.grid(True)\n",
        "plt.show()"
      ],
      "execution_count": 174,
      "outputs": [
        {
          "output_type": "display_data",
          "data": {
            "image/png": "[encoded data removed]",
            "text/plain": [
              "<Figure size 432x288 with 1 Axes>"
            ]
          },
          "metadata": {
            "tags": [],
            "needs_background": "light"
          }
        }
      ]
    },
    {
      "cell_type": "code",
      "metadata": {
        "colab": {
          "base_uri": "https://localhost:8080/"
        },
        "id": "fGWAi_tEezF8",
        "outputId": "2012d542-859e-42ca-fc68-a4dd6ec6f6ef"
      },
      "source": [
        "y_predict=model.predict(X_test)\n",
        "y_predict,y_test.round(4)"
      ],
      "execution_count": 175,
      "outputs": [
        {
          "output_type": "execute_result",
          "data": {
            "text/plain": [
              "(array([[3.6475523],\n",
              "        [5.967339 ],\n",
              "        [4.390223 ],\n",
              "        [4.20169  ],\n",
              "        [3.8009815],\n",
              "        [4.675528 ],\n",
              "        [4.952248 ],\n",
              "        [3.678894 ],\n",
              "        [4.0886006],\n",
              "        [3.7314134],\n",
              "        [5.675215 ],\n",
              "        [4.6093187],\n",
              "        [3.6739132],\n",
              "        [3.9494126],\n",
              "        [4.904287 ],\n",
              "        [3.885473 ],\n",
              "        [4.1584606],\n",
              "        [4.2546787],\n",
              "        [3.965943 ],\n",
              "        [3.7578268],\n",
              "        [4.8685894],\n",
              "        [5.4379387],\n",
              "        [5.7523565],\n",
              "        [3.9544055],\n",
              "        [4.221482 ],\n",
              "        [4.2348003],\n",
              "        [4.684033 ],\n",
              "        [3.932921 ],\n",
              "        [4.1384597],\n",
              "        [4.887719 ],\n",
              "        [4.819428 ],\n",
              "        [3.3662462],\n",
              "        [3.2906103],\n",
              "        [4.003879 ]], dtype=float32),\n",
              " array([2.95, 4.  , 2.  , 3.84, 2.  , 3.  , 1.  , 2.33, 5.  , 3.57, 2.  ,\n",
              "        6.  , 4.  , 4.6 , 5.5 , 2.46, 3.  , 5.  , 4.  , 3.73, 4.  , 4.  ,\n",
              "        4.5 , 3.87, 4.  , 5.  , 5.78, 3.5 , 4.  , 4.  , 4.2 , 1.26, 1.  ,\n",
              "        4.5 ]))"
            ]
          },
          "metadata": {
            "tags": []
          },
          "execution_count": 175
        }
      ]
    }
  ]
}