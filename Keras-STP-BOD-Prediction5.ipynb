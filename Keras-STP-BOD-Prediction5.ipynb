{
  "nbformat": 4,
  "nbformat_minor": 0,
  "metadata": {
    "colab": {
      "name": "Untitled2.ipynb",
      "provenance": [],
      "collapsed_sections": [],
      "authorship_tag": "ABX9TyOndhD/SHy58FK7+in1Oxtr",
      "include_colab_link": true
    },
    "kernelspec": {
      "name": "python3",
      "display_name": "Python 3"
    },
    "language_info": {
      "name": "python"
    }
  },
  "cells": [
    {
      "cell_type": "markdown",
      "metadata": {
        "id": "view-in-github",
        "colab_type": "text"
      },
      "source": [
        "<a href=\"https://colab.research.google.com/github/imhrishita/ML/blob/main/Keras-STP-BOD-Prediction5.ipynb\" target=\"_parent\"><img src=\"https://colab.research.google.com/assets/colab-badge.svg\" alt=\"Open In Colab\"/></a>"
      ]
    },
    {
      "cell_type": "code",
      "metadata": {
        "id": "u4oqPnUjFsgE"
      },
      "source": [
        "import numpy as np\n",
        "import pandas as pd\n",
        "%matplotlib inline\n",
        "import matplotlib as mpl\n",
        "import matplotlib.pyplot as plt\n",
        "import tensorflow as tf\n",
        "from tensorflow import keras"
      ],
      "execution_count": 3,
      "outputs": []
    },
    {
      "cell_type": "code",
      "metadata": {
        "colab": {
          "resources": {
            "http://localhost:8080/nbextensions/google.colab/files.js": {
              "data": "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",
              "ok": true,
              "headers": [
                [
                  "content-type",
                  "application/javascript"
                ]
              ],
              "status": 200,
              "status_text": ""
            }
          },
          "base_uri": "https://localhost:8080/",
          "height": 73
        },
        "id": "GTRH1_LRG54E",
        "outputId": "9b059243-4118-429c-f4f3-e46e1c7d828e"
      },
      "source": [
        "from google.colab import files\n",
        "uploaded = files.upload()"
      ],
      "execution_count": 4,
      "outputs": [
        {
          "output_type": "display_data",
          "data": {
            "text/html": [
              "\n",
              "     <input type=\"file\" id=\"files-ea0aff38-8c43-4504-9f31-cf17d906dc07\" name=\"files[]\" multiple disabled\n",
              "        style=\"border:none\" />\n",
              "     <output id=\"result-ea0aff38-8c43-4504-9f31-cf17d906dc07\">\n",
              "      Upload widget is only available when the cell has been executed in the\n",
              "      current browser session. Please rerun this cell to enable.\n",
              "      </output>\n",
              "      <script src=\"/nbextensions/google.colab/files.js\"></script> "
            ],
            "text/plain": [
              "<IPython.core.display.HTML object>"
            ]
          },
          "metadata": {
            "tags": []
          }
        },
        {
          "output_type": "stream",
          "text": [
            "Saving STP.csv to STP.csv\n"
          ],
          "name": "stdout"
        }
      ]
    },
    {
      "cell_type": "code",
      "metadata": {
        "colab": {
          "base_uri": "https://localhost:8080/"
        },
        "id": "PDPeIOp9HPgq",
        "outputId": "0baa914e-cafd-4299-c258-4856c0fd2c72"
      },
      "source": [
        "stp=pd.read_csv(\"STP.csv\")\n",
        "stp.info()"
      ],
      "execution_count": 5,
      "outputs": [
        {
          "output_type": "stream",
          "text": [
            "<class 'pandas.core.frame.DataFrame'>\n",
            "RangeIndex: 136 entries, 0 to 135\n",
            "Data columns (total 17 columns):\n",
            " #   Column                Non-Null Count  Dtype  \n",
            "---  ------                --------------  -----  \n",
            " 0   Date                  136 non-null    object \n",
            " 1   Influent BOD5         136 non-null    int64  \n",
            " 2   Influent TSS          136 non-null    int64  \n",
            " 3   Influent NH3          136 non-null    float64\n",
            " 4   temperature           136 non-null    float64\n",
            " 5   Influent pH           136 non-null    float64\n",
            " 6   Influent Alkalinity   136 non-null    int64  \n",
            " 7   Effluent BOD5         136 non-null    float64\n",
            " 8   Effluent TSS          136 non-null    float64\n",
            " 9   Effluent NH3          136 non-null    float64\n",
            " 10  Aerobic NOx           136 non-null    float64\n",
            " 11  Effluent pH           136 non-null    float64\n",
            " 12  Field MLSS            136 non-null    float64\n",
            " 13  Anoxic tank DO        136 non-null    float64\n",
            " 14  Aerobic NH3           136 non-null    float64\n",
            " 15  Aerobic DO            136 non-null    float64\n",
            " 16  Unnamed: 16           0 non-null      float64\n",
            "dtypes: float64(13), int64(3), object(1)\n",
            "memory usage: 18.2+ KB\n"
          ],
          "name": "stdout"
        }
      ]
    },
    {
      "cell_type": "code",
      "metadata": {
        "colab": {
          "base_uri": "https://localhost:8080/"
        },
        "id": "79bl1xECjDXj",
        "outputId": "a4eeb69e-48ee-4e4c-d01c-93ce891c9abc"
      },
      "source": [
        "stp.pop('Influent TSS')\n",
        "stp.pop('Effluent TSS')\n",
        "stp.pop('Unnamed: 16')\n",
        "stp.pop('Date')\n",
        "stp.info()"
      ],
      "execution_count": 6,
      "outputs": [
        {
          "output_type": "stream",
          "text": [
            "<class 'pandas.core.frame.DataFrame'>\n",
            "RangeIndex: 136 entries, 0 to 135\n",
            "Data columns (total 13 columns):\n",
            " #   Column                Non-Null Count  Dtype  \n",
            "---  ------                --------------  -----  \n",
            " 0   Influent BOD5         136 non-null    int64  \n",
            " 1   Influent NH3          136 non-null    float64\n",
            " 2   temperature           136 non-null    float64\n",
            " 3   Influent pH           136 non-null    float64\n",
            " 4   Influent Alkalinity   136 non-null    int64  \n",
            " 5   Effluent BOD5         136 non-null    float64\n",
            " 6   Effluent NH3          136 non-null    float64\n",
            " 7   Aerobic NOx           136 non-null    float64\n",
            " 8   Effluent pH           136 non-null    float64\n",
            " 9   Field MLSS            136 non-null    float64\n",
            " 10  Anoxic tank DO        136 non-null    float64\n",
            " 11  Aerobic NH3           136 non-null    float64\n",
            " 12  Aerobic DO            136 non-null    float64\n",
            "dtypes: float64(11), int64(2)\n",
            "memory usage: 13.9 KB\n"
          ],
          "name": "stdout"
        }
      ]
    },
    {
      "cell_type": "code",
      "metadata": {
        "id": "9aqqOJOfj7mW"
      },
      "source": [
        "X=stp.drop(['Effluent BOD5'],axis=1).values\n",
        "y=stp['Effluent BOD5'].values"
      ],
      "execution_count": 7,
      "outputs": []
    },
    {
      "cell_type": "code",
      "metadata": {
        "id": "8kEDoAkcIWHm"
      },
      "source": [
        "from sklearn.model_selection import train_test_split\n",
        "X_train_full,X_test,y_train_full,y_test=train_test_split(X,y,random_state=23)\n",
        "X_train,X_valid,y_train,y_valid=train_test_split(X_train_full,y_train_full, random_state=23)"
      ],
      "execution_count": 259,
      "outputs": []
    },
    {
      "cell_type": "code",
      "metadata": {
        "colab": {
          "base_uri": "https://localhost:8080/"
        },
        "id": "Taujqg6WJsh-",
        "outputId": "e37b946a-4316-459d-da19-589a801af0de"
      },
      "source": [
        "X_train.shape, y_train.shape"
      ],
      "execution_count": 260,
      "outputs": [
        {
          "output_type": "execute_result",
          "data": {
            "text/plain": [
              "((76, 12), (76,))"
            ]
          },
          "metadata": {
            "tags": []
          },
          "execution_count": 260
        }
      ]
    },
    {
      "cell_type": "code",
      "metadata": {
        "colab": {
          "base_uri": "https://localhost:8080/"
        },
        "id": "bnSUHTzYJztZ",
        "outputId": "b8ad78be-b9c8-4312-a2c1-64e466a4adc3"
      },
      "source": [
        "X_valid.shape, y_valid.shape"
      ],
      "execution_count": 261,
      "outputs": [
        {
          "output_type": "execute_result",
          "data": {
            "text/plain": [
              "((26, 12), (26,))"
            ]
          },
          "metadata": {
            "tags": []
          },
          "execution_count": 261
        }
      ]
    },
    {
      "cell_type": "code",
      "metadata": {
        "colab": {
          "base_uri": "https://localhost:8080/"
        },
        "id": "B5hpB5wPJ8TG",
        "outputId": "5e2310af-55f5-4619-d61f-576e8b5984af"
      },
      "source": [
        "X_test.shape, y_test.shape"
      ],
      "execution_count": 262,
      "outputs": [
        {
          "output_type": "execute_result",
          "data": {
            "text/plain": [
              "((34, 12), (34,))"
            ]
          },
          "metadata": {
            "tags": []
          },
          "execution_count": 262
        }
      ]
    },
    {
      "cell_type": "code",
      "metadata": {
        "id": "6RTHb2ZCUVAG"
      },
      "source": [
        "from sklearn.preprocessing import StandardScaler\n",
        "scaler=StandardScaler()\n",
        "X_train=scaler.fit_transform(X_train)\n",
        "X_valid=scaler.transform(X_valid)\n",
        "X_test=scaler.transform(X_test)"
      ],
      "execution_count": 263,
      "outputs": []
    },
    {
      "cell_type": "code",
      "metadata": {
        "id": "Qukdiu4_VodI"
      },
      "source": [
        "np.random.seed(23)\n",
        "tf.random.set_seed(23)"
      ],
      "execution_count": 264,
      "outputs": []
    },
    {
      "cell_type": "code",
      "metadata": {
        "id": "uZAPWAuoV3qn"
      },
      "source": [
        "inputs = keras.Input(shape=(12,))\n",
        "x = keras.layers.Dense(100, activation=\"relu\", name=\"dense_1\")(inputs)\n",
        "x = keras.layers.Dense(30, activation=\"relu\", name=\"dense_2\")(x)\n",
        "x = keras.layers.Dense(30, activation=\"sigmoid\", name=\"dense_3\")(x)\n",
        "outputs = keras.layers.Dense(1, name=\"predictions\")(x)\n",
        "\n",
        "model = keras.Model(inputs=inputs, outputs=outputs)"
      ],
      "execution_count": 265,
      "outputs": []
    },
    {
      "cell_type": "code",
      "metadata": {
        "id": "nJNpcglCX7OT"
      },
      "source": [
        "model.compile(loss=\"mean_squared_error\",\n",
        "              optimizer=keras.optimizers.SGD(learning_rate=1e-2),\n",
        "              metrics=['mae'])"
      ],
      "execution_count": 266,
      "outputs": []
    },
    {
      "cell_type": "code",
      "metadata": {
        "id": "GS64YEMzakjW"
      },
      "source": [
        "checkpoint_cb=keras.callbacks.ModelCheckpoint(\"OptimumTrainedModel.h5\",save_best_only=True)"
      ],
      "execution_count": 267,
      "outputs": []
    },
    {
      "cell_type": "code",
      "metadata": {
        "id": "h8dLPayXbbfk"
      },
      "source": [
        "early_stopping_cb=keras.callbacks.EarlyStopping(patience=10, restore_best_weights=True)"
      ],
      "execution_count": 268,
      "outputs": []
    },
    {
      "cell_type": "code",
      "metadata": {
        "colab": {
          "base_uri": "https://localhost:8080/"
        },
        "id": "vxo17EXcbUrQ",
        "outputId": "7bde58c4-f0f4-476e-accf-11f9e300f616"
      },
      "source": [
        "model_history=model.fit(X_train,y_train, epochs=500, validation_data=(X_valid, y_valid),callbacks=[checkpoint_cb, early_stopping_cb])"
      ],
      "execution_count": 269,
      "outputs": [
        {
          "output_type": "stream",
          "text": [
            "Epoch 1/500\n",
            "3/3 [==============================] - 1s 79ms/step - loss: 25.0656 - mae: 4.2629 - val_loss: 8.3907 - val_mae: 2.4482\n",
            "Epoch 2/500\n",
            "3/3 [==============================] - 0s 13ms/step - loss: 11.6145 - mae: 2.3867 - val_loss: 4.1916 - val_mae: 1.4388\n",
            "Epoch 3/500\n",
            "3/3 [==============================] - 0s 13ms/step - loss: 8.1639 - mae: 1.7863 - val_loss: 2.7938 - val_mae: 1.1328\n",
            "Epoch 4/500\n",
            "3/3 [==============================] - 0s 14ms/step - loss: 6.9852 - mae: 1.6327 - val_loss: 2.5398 - val_mae: 1.0931\n",
            "Epoch 5/500\n",
            "3/3 [==============================] - 0s 12ms/step - loss: 6.6891 - mae: 1.6100 - val_loss: 2.4165 - val_mae: 1.1047\n",
            "Epoch 6/500\n",
            "3/3 [==============================] - 0s 19ms/step - loss: 6.4601 - mae: 1.6366 - val_loss: 2.3852 - val_mae: 1.1142\n",
            "Epoch 7/500\n",
            "3/3 [==============================] - 0s 14ms/step - loss: 6.3335 - mae: 1.6517 - val_loss: 2.3501 - val_mae: 1.0784\n",
            "Epoch 8/500\n",
            "3/3 [==============================] - 0s 12ms/step - loss: 6.2635 - mae: 1.5966 - val_loss: 2.3593 - val_mae: 1.1157\n",
            "Epoch 9/500\n",
            "3/3 [==============================] - 0s 14ms/step - loss: 6.1404 - mae: 1.6312 - val_loss: 2.4011 - val_mae: 1.1355\n",
            "Epoch 10/500\n",
            "3/3 [==============================] - 0s 15ms/step - loss: 5.9541 - mae: 1.6415 - val_loss: 2.3271 - val_mae: 1.1039\n",
            "Epoch 11/500\n",
            "3/3 [==============================] - 0s 13ms/step - loss: 5.7979 - mae: 1.6122 - val_loss: 2.2541 - val_mae: 1.0675\n",
            "Epoch 12/500\n",
            "3/3 [==============================] - 0s 18ms/step - loss: 5.6958 - mae: 1.5523 - val_loss: 2.2133 - val_mae: 1.0476\n",
            "Epoch 13/500\n",
            "3/3 [==============================] - 0s 13ms/step - loss: 5.5851 - mae: 1.5246 - val_loss: 2.2407 - val_mae: 1.0643\n",
            "Epoch 14/500\n",
            "3/3 [==============================] - 0s 14ms/step - loss: 5.4371 - mae: 1.5430 - val_loss: 2.1224 - val_mae: 0.9979\n",
            "Epoch 15/500\n",
            "3/3 [==============================] - 0s 12ms/step - loss: 5.3149 - mae: 1.4659 - val_loss: 2.1265 - val_mae: 0.9982\n",
            "Epoch 16/500\n",
            "3/3 [==============================] - 0s 13ms/step - loss: 5.1799 - mae: 1.4659 - val_loss: 2.0834 - val_mae: 0.9734\n",
            "Epoch 17/500\n",
            "3/3 [==============================] - 0s 14ms/step - loss: 5.1916 - mae: 1.4611 - val_loss: 2.0603 - val_mae: 0.9607\n",
            "Epoch 18/500\n",
            "3/3 [==============================] - 0s 15ms/step - loss: 4.9952 - mae: 1.4049 - val_loss: 2.1066 - val_mae: 0.9974\n",
            "Epoch 19/500\n",
            "3/3 [==============================] - 0s 15ms/step - loss: 4.8674 - mae: 1.4182 - val_loss: 2.0941 - val_mae: 0.9878\n",
            "Epoch 20/500\n",
            "3/3 [==============================] - 0s 18ms/step - loss: 4.8033 - mae: 1.4147 - val_loss: 2.0382 - val_mae: 0.9392\n",
            "Epoch 21/500\n",
            "3/3 [==============================] - 0s 14ms/step - loss: 4.8214 - mae: 1.3671 - val_loss: 2.0354 - val_mae: 0.9288\n",
            "Epoch 22/500\n",
            "3/3 [==============================] - 0s 12ms/step - loss: 4.7234 - mae: 1.3536 - val_loss: 2.0326 - val_mae: 0.9248\n",
            "Epoch 23/500\n",
            "3/3 [==============================] - 0s 14ms/step - loss: 4.6251 - mae: 1.3243 - val_loss: 2.1402 - val_mae: 0.9960\n",
            "Epoch 24/500\n",
            "3/3 [==============================] - 0s 16ms/step - loss: 4.4837 - mae: 1.3621 - val_loss: 2.0791 - val_mae: 0.9582\n",
            "Epoch 25/500\n",
            "3/3 [==============================] - 0s 13ms/step - loss: 4.4090 - mae: 1.3256 - val_loss: 2.1362 - val_mae: 0.9807\n",
            "Epoch 26/500\n",
            "3/3 [==============================] - 0s 17ms/step - loss: 4.3395 - mae: 1.3286 - val_loss: 2.2139 - val_mae: 1.0157\n",
            "Epoch 27/500\n",
            "3/3 [==============================] - 0s 16ms/step - loss: 4.2515 - mae: 1.3376 - val_loss: 2.0810 - val_mae: 0.9384\n",
            "Epoch 28/500\n",
            "3/3 [==============================] - 0s 14ms/step - loss: 4.2163 - mae: 1.2846 - val_loss: 2.0734 - val_mae: 0.9246\n",
            "Epoch 29/500\n",
            "3/3 [==============================] - 0s 12ms/step - loss: 4.1042 - mae: 1.2518 - val_loss: 2.1867 - val_mae: 0.9865\n",
            "Epoch 30/500\n",
            "3/3 [==============================] - 0s 12ms/step - loss: 4.0300 - mae: 1.2884 - val_loss: 2.0956 - val_mae: 0.9278\n",
            "Epoch 31/500\n",
            "3/3 [==============================] - 0s 13ms/step - loss: 3.9601 - mae: 1.2296 - val_loss: 2.1941 - val_mae: 0.9766\n",
            "Epoch 32/500\n",
            "3/3 [==============================] - 0s 14ms/step - loss: 3.8815 - mae: 1.2386 - val_loss: 2.2124 - val_mae: 0.9768\n"
          ],
          "name": "stdout"
        }
      ]
    },
    {
      "cell_type": "code",
      "metadata": {
        "colab": {
          "base_uri": "https://localhost:8080/"
        },
        "id": "3-PBCWdxcpQr",
        "outputId": "1787bc25-0b1e-4f7d-f609-c32bfbaecd30"
      },
      "source": [
        "mae_test=model.evaluate(X_test,y_test)"
      ],
      "execution_count": 270,
      "outputs": [
        {
          "output_type": "stream",
          "text": [
            "2/2 [==============================] - 0s 5ms/step - loss: 1.9342 - mae: 1.0470\n"
          ],
          "name": "stdout"
        }
      ]
    },
    {
      "cell_type": "code",
      "metadata": {
        "colab": {
          "base_uri": "https://localhost:8080/"
        },
        "id": "Idwl1kd1c9mj",
        "outputId": "83eeb194-4a3c-4b01-8c4d-ed7d922861bf"
      },
      "source": [
        "model_history.history"
      ],
      "execution_count": 271,
      "outputs": [
        {
          "output_type": "execute_result",
          "data": {
            "text/plain": [
              "{'loss': [25.06557273864746,\n",
              "  11.614545822143555,\n",
              "  8.163932800292969,\n",
              "  6.985248565673828,\n",
              "  6.689128398895264,\n",
              "  6.460139274597168,\n",
              "  6.333509922027588,\n",
              "  6.263501167297363,\n",
              "  6.140428066253662,\n",
              "  5.9541497230529785,\n",
              "  5.797938346862793,\n",
              "  5.695840358734131,\n",
              "  5.585061550140381,\n",
              "  5.4370903968811035,\n",
              "  5.314941883087158,\n",
              "  5.1798858642578125,\n",
              "  5.191618919372559,\n",
              "  4.99515962600708,\n",
              "  4.867382049560547,\n",
              "  4.803318500518799,\n",
              "  4.821357727050781,\n",
              "  4.723355770111084,\n",
              "  4.6250739097595215,\n",
              "  4.483719825744629,\n",
              "  4.408962726593018,\n",
              "  4.339489459991455,\n",
              "  4.251530170440674,\n",
              "  4.216345310211182,\n",
              "  4.104215145111084,\n",
              "  4.030046463012695,\n",
              "  3.960087776184082,\n",
              "  3.8814773559570312],\n",
              " 'mae': [4.262878894805908,\n",
              "  2.386725664138794,\n",
              "  1.7862968444824219,\n",
              "  1.6326534748077393,\n",
              "  1.6099798679351807,\n",
              "  1.6365982294082642,\n",
              "  1.651738166809082,\n",
              "  1.5966074466705322,\n",
              "  1.631180763244629,\n",
              "  1.641493797302246,\n",
              "  1.612205147743225,\n",
              "  1.5523381233215332,\n",
              "  1.5245580673217773,\n",
              "  1.5429880619049072,\n",
              "  1.4658523797988892,\n",
              "  1.4659197330474854,\n",
              "  1.4610927104949951,\n",
              "  1.4049354791641235,\n",
              "  1.4181909561157227,\n",
              "  1.4146617650985718,\n",
              "  1.3670858144760132,\n",
              "  1.3535635471343994,\n",
              "  1.3242648839950562,\n",
              "  1.3621102571487427,\n",
              "  1.325646996498108,\n",
              "  1.3285824060440063,\n",
              "  1.3376258611679077,\n",
              "  1.2845698595046997,\n",
              "  1.2518391609191895,\n",
              "  1.2883641719818115,\n",
              "  1.2296026945114136,\n",
              "  1.2385658025741577],\n",
              " 'val_loss': [8.390670776367188,\n",
              "  4.191617965698242,\n",
              "  2.793757200241089,\n",
              "  2.5398268699645996,\n",
              "  2.416494369506836,\n",
              "  2.3851683139801025,\n",
              "  2.35006046295166,\n",
              "  2.3593428134918213,\n",
              "  2.401130199432373,\n",
              "  2.327064275741577,\n",
              "  2.2541394233703613,\n",
              "  2.2132601737976074,\n",
              "  2.2406821250915527,\n",
              "  2.1224443912506104,\n",
              "  2.126469612121582,\n",
              "  2.083404302597046,\n",
              "  2.0603067874908447,\n",
              "  2.106550931930542,\n",
              "  2.094111442565918,\n",
              "  2.0381834506988525,\n",
              "  2.035400629043579,\n",
              "  2.0326309204101562,\n",
              "  2.1402313709259033,\n",
              "  2.0791125297546387,\n",
              "  2.1362180709838867,\n",
              "  2.213894844055176,\n",
              "  2.0809667110443115,\n",
              "  2.0733771324157715,\n",
              "  2.1867423057556152,\n",
              "  2.0956356525421143,\n",
              "  2.194096088409424,\n",
              "  2.212427854537964],\n",
              " 'val_mae': [2.448237180709839,\n",
              "  1.438779354095459,\n",
              "  1.132817268371582,\n",
              "  1.093110203742981,\n",
              "  1.104749083518982,\n",
              "  1.1141750812530518,\n",
              "  1.0783673524856567,\n",
              "  1.1157242059707642,\n",
              "  1.135521650314331,\n",
              "  1.1038994789123535,\n",
              "  1.0674703121185303,\n",
              "  1.0476170778274536,\n",
              "  1.0642619132995605,\n",
              "  0.9979212880134583,\n",
              "  0.9982248544692993,\n",
              "  0.9733720421791077,\n",
              "  0.9607169032096863,\n",
              "  0.9973673224449158,\n",
              "  0.9877728223800659,\n",
              "  0.9392443299293518,\n",
              "  0.9288333058357239,\n",
              "  0.9247819185256958,\n",
              "  0.9959765076637268,\n",
              "  0.9582313299179077,\n",
              "  0.9807407855987549,\n",
              "  1.0157147645950317,\n",
              "  0.9383535385131836,\n",
              "  0.9246085286140442,\n",
              "  0.9864747524261475,\n",
              "  0.9278259873390198,\n",
              "  0.976573646068573,\n",
              "  0.97682124376297]}"
            ]
          },
          "metadata": {
            "tags": []
          },
          "execution_count": 271
        }
      ]
    },
    {
      "cell_type": "code",
      "metadata": {
        "colab": {
          "base_uri": "https://localhost:8080/",
          "height": 265
        },
        "id": "EF7DkoekdB-B",
        "outputId": "4a9746b5-a41b-49c0-c8bb-b62b35951ee6"
      },
      "source": [
        "pd.DataFrame(model_history.history).plot(kind='line')\n",
        "plt.grid(True)\n",
        "plt.show()"
      ],
      "execution_count": 272,
      "outputs": [
        {
          "output_type": "display_data",
          "data": {
            "image/png": "[encoded data removed]",
            "text/plain": [
              "<Figure size 432x288 with 1 Axes>"
            ]
          },
          "metadata": {
            "tags": [],
            "needs_background": "light"
          }
        }
      ]
    },
    {
      "cell_type": "code",
      "metadata": {
        "colab": {
          "base_uri": "https://localhost:8080/"
        },
        "id": "fGWAi_tEezF8",
        "outputId": "c91d5225-6b1c-461b-a60a-c24c6a1ab314"
      },
      "source": [
        "y_predict=model.predict(X_test)\n",
        "y_predict,y_test.round(4)"
      ],
      "execution_count": 273,
      "outputs": [
        {
          "output_type": "execute_result",
          "data": {
            "text/plain": [
              "(array([[3.570185 ],\n",
              "        [5.826752 ],\n",
              "        [4.6209235],\n",
              "        [4.1379514],\n",
              "        [3.4147694],\n",
              "        [4.876293 ],\n",
              "        [4.767232 ],\n",
              "        [3.3023865],\n",
              "        [4.20686  ],\n",
              "        [3.639185 ],\n",
              "        [5.3939624],\n",
              "        [4.570862 ],\n",
              "        [3.5257874],\n",
              "        [3.7950757],\n",
              "        [5.2673388],\n",
              "        [3.7068443],\n",
              "        [4.3512793],\n",
              "        [4.727999 ],\n",
              "        [4.09014  ],\n",
              "        [3.8229268],\n",
              "        [4.292653 ],\n",
              "        [5.2277403],\n",
              "        [5.357838 ],\n",
              "        [3.8487606],\n",
              "        [4.537927 ],\n",
              "        [4.35825  ],\n",
              "        [4.972706 ],\n",
              "        [3.6955585],\n",
              "        [4.393895 ],\n",
              "        [5.103547 ],\n",
              "        [4.9887977],\n",
              "        [3.2991793],\n",
              "        [3.3346975],\n",
              "        [3.7903605]], dtype=float32),\n",
              " array([2.95, 4.  , 2.  , 3.84, 2.  , 3.  , 1.  , 2.33, 5.  , 3.57, 2.  ,\n",
              "        6.  , 4.  , 4.6 , 5.5 , 2.46, 3.  , 5.  , 4.  , 3.73, 4.  , 4.  ,\n",
              "        4.5 , 3.87, 4.  , 5.  , 5.78, 3.5 , 4.  , 4.  , 4.2 , 1.26, 1.  ,\n",
              "        4.5 ]))"
            ]
          },
          "metadata": {
            "tags": []
          },
          "execution_count": 273
        }
      ]
    }
  ]
}