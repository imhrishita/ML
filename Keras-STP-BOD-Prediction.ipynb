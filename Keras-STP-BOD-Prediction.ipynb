{
  "nbformat": 4,
  "nbformat_minor": 0,
  "metadata": {
    "colab": {
      "name": "Untitled2.ipynb",
      "provenance": [],
      "collapsed_sections": [],
      "authorship_tag": "ABX9TyOH8UO3CYNWKT+NMGtZfrwM",
      "include_colab_link": true
    },
    "kernelspec": {
      "name": "python3",
      "display_name": "Python 3"
    },
    "language_info": {
      "name": "python"
    }
  },
  "cells": [
    {
      "cell_type": "markdown",
      "metadata": {
        "id": "view-in-github",
        "colab_type": "text"
      },
      "source": [
        "<a href=\"https://colab.research.google.com/github/imhrishita/ML/blob/main/Keras-STP-BOD-Prediction.ipynb\" target=\"_parent\"><img src=\"https://colab.research.google.com/assets/colab-badge.svg\" alt=\"Open In Colab\"/></a>"
      ]
    },
    {
      "cell_type": "code",
      "metadata": {
        "id": "u4oqPnUjFsgE"
      },
      "source": [
        "import numpy as np\n",
        "import pandas as pd\n",
        "%matplotlib inline\n",
        "import matplotlib as mpl\n",
        "import matplotlib.pyplot as plt\n",
        "import tensorflow as tf\n",
        "from tensorflow import keras"
      ],
      "execution_count": 1,
      "outputs": []
    },
    {
      "cell_type": "code",
      "metadata": {
        "colab": {
          "resources": {
            "http://localhost:8080/nbextensions/google.colab/files.js": {
              "data": "Ly8gQ29weXJpZ2h0IDIwMTcgR29vZ2xlIExMQwovLwovLyBMaWNlbnNlZCB1bmRlciB0aGUgQXBhY2hlIExpY2Vuc2UsIFZlcnNpb24gMi4wICh0aGUgIkxpY2Vuc2UiKTsKLy8geW91IG1heSBub3QgdXNlIHRoaXMgZmlsZSBleGNlcHQgaW4gY29tcGxpYW5jZSB3aXRoIHRoZSBMaWNlbnNlLgovLyBZb3UgbWF5IG9idGFpbiBhIGNvcHkgb2YgdGhlIExpY2Vuc2UgYXQKLy8KLy8gICAgICBodHRwOi8vd3d3LmFwYWNoZS5vcmcvbGljZW5zZXMvTElDRU5TRS0yLjAKLy8KLy8gVW5sZXNzIHJlcXVpcmVkIGJ5IGFwcGxpY2FibGUgbGF3IG9yIGFncmVlZCB0byBpbiB3cml0aW5nLCBzb2Z0d2FyZQovLyBkaXN0cmlidXRlZCB1bmRlciB0aGUgTGljZW5zZSBpcyBkaXN0cmlidXRlZCBvbiBhbiAiQVMgSVMiIEJBU0lTLAovLyBXSVRIT1VUIFdBUlJBTlRJRVMgT1IgQ09ORElUSU9OUyBPRiBBTlkgS0lORCwgZWl0aGVyIGV4cHJlc3Mgb3IgaW1wbGllZC4KLy8gU2VlIHRoZSBMaWNlbnNlIGZvciB0aGUgc3BlY2lmaWMgbGFuZ3VhZ2UgZ292ZXJuaW5nIHBlcm1pc3Npb25zIGFuZAovLyBsaW1pdGF0aW9ucyB1bmRlciB0aGUgTGljZW5zZS4KCi8qKgogKiBAZmlsZW92ZXJ2aWV3IEhlbHBlcnMgZm9yIGdvb2dsZS5jb2xhYiBQeXRob24gbW9kdWxlLgogKi8KKGZ1bmN0aW9uKHNjb3BlKSB7CmZ1bmN0aW9uIHNwYW4odGV4dCwgc3R5bGVBdHRyaWJ1dGVzID0ge30pIHsKICBjb25zdCBlbGVtZW50ID0gZG9jdW1lbnQuY3JlYXRlRWxlbWVudCgnc3BhbicpOwogIGVsZW1lbnQudGV4dENvbnRlbnQgPSB0ZXh0OwogIGZvciAoY29uc3Qga2V5IG9mIE9iamVjdC5rZXlzKHN0eWxlQXR0cmlidXRlcykpIHsKICAgIGVsZW1lbnQuc3R5bGVba2V5XSA9IHN0eWxlQXR0cmlidXRlc1trZXldOwogIH0KICByZXR1cm4gZWxlbWVudDsKfQoKLy8gTWF4IG51bWJlciBvZiBieXRlcyB3aGljaCB3aWxsIGJlIHVwbG9hZGVkIGF0IGEgdGltZS4KY29uc3QgTUFYX1BBWUxPQURfU0laRSA9IDEwMCAqIDEwMjQ7CgpmdW5jdGlvbiBfdXBsb2FkRmlsZXMoaW5wdXRJZCwgb3V0cHV0SWQpIHsKICBjb25zdCBzdGVwcyA9IHVwbG9hZEZpbGVzU3RlcChpbnB1dElkLCBvdXRwdXRJZCk7CiAgY29uc3Qgb3V0cHV0RWxlbWVudCA9IGRvY3VtZW50LmdldEVsZW1lbnRCeUlkKG91dHB1dElkKTsKICAvLyBDYWNoZSBzdGVwcyBvbiB0aGUgb3V0cHV0RWxlbWVudCB0byBtYWtlIGl0IGF2YWlsYWJsZSBmb3IgdGhlIG5leHQgY2FsbAogIC8vIHRvIHVwbG9hZEZpbGVzQ29udGludWUgZnJvbSBQeXRob24uCiAgb3V0cHV0RWxlbWVudC5zdGVwcyA9IHN0ZXBzOwoKICByZXR1cm4gX3VwbG9hZEZpbGVzQ29udGludWUob3V0cHV0SWQpOwp9CgovLyBUaGlzIGlzIHJvdWdobHkgYW4gYXN5bmMgZ2VuZXJhdG9yIChub3Qgc3VwcG9ydGVkIGluIHRoZSBicm93c2VyIHlldCksCi8vIHdoZXJlIHRoZXJlIGFyZSBtdWx0aXBsZSBhc3luY2hyb25vdXMgc3RlcHMgYW5kIHRoZSBQeXRob24gc2lkZSBpcyBnb2luZwovLyB0byBwb2xsIGZvciBjb21wbGV0aW9uIG9mIGVhY2ggc3RlcC4KLy8gVGhpcyB1c2VzIGEgUHJvbWlzZSB0byBibG9jayB0aGUgcHl0aG9uIHNpZGUgb24gY29tcGxldGlvbiBvZiBlYWNoIHN0ZXAsCi8vIHRoZW4gcGFzc2VzIHRoZSByZXN1bHQgb2YgdGhlIHByZXZpb3VzIHN0ZXAgYXMgdGhlIGlucHV0IHRvIHRoZSBuZXh0IHN0ZXAuCmZ1bmN0aW9uIF91cGxvYWRGaWxlc0NvbnRpbnVlKG91dHB1dElkKSB7CiAgY29uc3Qgb3V0cHV0RWxlbWVudCA9IGRvY3VtZW50LmdldEVsZW1lbnRCeUlkKG91dHB1dElkKTsKICBjb25zdCBzdGVwcyA9IG91dHB1dEVsZW1lbnQuc3RlcHM7CgogIGNvbnN0IG5leHQgPSBzdGVwcy5uZXh0KG91dHB1dEVsZW1lbnQubGFzdFByb21pc2VWYWx1ZSk7CiAgcmV0dXJuIFByb21pc2UucmVzb2x2ZShuZXh0LnZhbHVlLnByb21pc2UpLnRoZW4oKHZhbHVlKSA9PiB7CiAgICAvLyBDYWNoZSB0aGUgbGFzdCBwcm9taXNlIHZhbHVlIHRvIG1ha2UgaXQgYXZhaWxhYmxlIHRvIHRoZSBuZXh0CiAgICAvLyBzdGVwIG9mIHRoZSBnZW5lcmF0b3IuCiAgICBvdXRwdXRFbGVtZW50Lmxhc3RQcm9taXNlVmFsdWUgPSB2YWx1ZTsKICAgIHJldHVybiBuZXh0LnZhbHVlLnJlc3BvbnNlOwogIH0pOwp9CgovKioKICogR2VuZXJhdG9yIGZ1bmN0aW9uIHdoaWNoIGlzIGNhbGxlZCBiZXR3ZWVuIGVhY2ggYXN5bmMgc3RlcCBvZiB0aGUgdXBsb2FkCiAqIHByb2Nlc3MuCiAqIEBwYXJhbSB7c3RyaW5nfSBpbnB1dElkIEVsZW1lbnQgSUQgb2YgdGhlIGlucHV0IGZpbGUgcGlja2VyIGVsZW1lbnQuCiAqIEBwYXJhbSB7c3RyaW5nfSBvdXRwdXRJZCBFbGVtZW50IElEIG9mIHRoZSBvdXRwdXQgZGlzcGxheS4KICogQHJldHVybiB7IUl0ZXJhYmxlPCFPYmplY3Q+fSBJdGVyYWJsZSBvZiBuZXh0IHN0ZXBzLgogKi8KZnVuY3Rpb24qIHVwbG9hZEZpbGVzU3RlcChpbnB1dElkLCBvdXRwdXRJZCkgewogIGNvbnN0IGlucHV0RWxlbWVudCA9IGRvY3VtZW50LmdldEVsZW1lbnRCeUlkKGlucHV0SWQpOwogIGlucHV0RWxlbWVudC5kaXNhYmxlZCA9IGZhbHNlOwoKICBjb25zdCBvdXRwdXRFbGVtZW50ID0gZG9jdW1lbnQuZ2V0RWxlbWVudEJ5SWQob3V0cHV0SWQpOwogIG91dHB1dEVsZW1lbnQuaW5uZXJIVE1MID0gJyc7CgogIGNvbnN0IHBpY2tlZFByb21pc2UgPSBuZXcgUHJvbWlzZSgocmVzb2x2ZSkgPT4gewogICAgaW5wdXRFbGVtZW50LmFkZEV2ZW50TGlzdGVuZXIoJ2NoYW5nZScsIChlKSA9PiB7CiAgICAgIHJlc29sdmUoZS50YXJnZXQuZmlsZXMpOwogICAgfSk7CiAgfSk7CgogIGNvbnN0IGNhbmNlbCA9IGRvY3VtZW50LmNyZWF0ZUVsZW1lbnQoJ2J1dHRvbicpOwogIGlucHV0RWxlbWVudC5wYXJlbnRFbGVtZW50LmFwcGVuZENoaWxkKGNhbmNlbCk7CiAgY2FuY2VsLnRleHRDb250ZW50ID0gJ0NhbmNlbCB1cGxvYWQnOwogIGNvbnN0IGNhbmNlbFByb21pc2UgPSBuZXcgUHJvbWlzZSgocmVzb2x2ZSkgPT4gewogICAgY2FuY2VsLm9uY2xpY2sgPSAoKSA9PiB7CiAgICAgIHJlc29sdmUobnVsbCk7CiAgICB9OwogIH0pOwoKICAvLyBXYWl0IGZvciB0aGUgdXNlciB0byBwaWNrIHRoZSBmaWxlcy4KICBjb25zdCBmaWxlcyA9IHlpZWxkIHsKICAgIHByb21pc2U6IFByb21pc2UucmFjZShbcGlja2VkUHJvbWlzZSwgY2FuY2VsUHJvbWlzZV0pLAogICAgcmVzcG9uc2U6IHsKICAgICAgYWN0aW9uOiAnc3RhcnRpbmcnLAogICAgfQogIH07CgogIGNhbmNlbC5yZW1vdmUoKTsKCiAgLy8gRGlzYWJsZSB0aGUgaW5wdXQgZWxlbWVudCBzaW5jZSBmdXJ0aGVyIHBpY2tzIGFyZSBub3QgYWxsb3dlZC4KICBpbnB1dEVsZW1lbnQuZGlzYWJsZWQgPSB0cnVlOwoKICBpZiAoIWZpbGVzKSB7CiAgICByZXR1cm4gewogICAgICByZXNwb25zZTogewogICAgICAgIGFjdGlvbjogJ2NvbXBsZXRlJywKICAgICAgfQogICAgfTsKICB9CgogIGZvciAoY29uc3QgZmlsZSBvZiBmaWxlcykgewogICAgY29uc3QgbGkgPSBkb2N1bWVudC5jcmVhdGVFbGVtZW50KCdsaScpOwogICAgbGkuYXBwZW5kKHNwYW4oZmlsZS5uYW1lLCB7Zm9udFdlaWdodDogJ2JvbGQnfSkpOwogICAgbGkuYXBwZW5kKHNwYW4oCiAgICAgICAgYCgke2ZpbGUudHlwZSB8fCAnbi9hJ30pIC0gJHtmaWxlLnNpemV9IGJ5dGVzLCBgICsKICAgICAgICBgbGFzdCBtb2RpZmllZDogJHsKICAgICAgICAgICAgZmlsZS5sYXN0TW9kaWZpZWREYXRlID8gZmlsZS5sYXN0TW9kaWZpZWREYXRlLnRvTG9jYWxlRGF0ZVN0cmluZygpIDoKICAgICAgICAgICAgICAgICAgICAgICAgICAgICAgICAgICAgJ24vYSd9IC0gYCkpOwogICAgY29uc3QgcGVyY2VudCA9IHNwYW4oJzAlIGRvbmUnKTsKICAgIGxpLmFwcGVuZENoaWxkKHBlcmNlbnQpOwoKICAgIG91dHB1dEVsZW1lbnQuYXBwZW5kQ2hpbGQobGkpOwoKICAgIGNvbnN0IGZpbGVEYXRhUHJvbWlzZSA9IG5ldyBQcm9taXNlKChyZXNvbHZlKSA9PiB7CiAgICAgIGNvbnN0IHJlYWRlciA9IG5ldyBGaWxlUmVhZGVyKCk7CiAgICAgIHJlYWRlci5vbmxvYWQgPSAoZSkgPT4gewogICAgICAgIHJlc29sdmUoZS50YXJnZXQucmVzdWx0KTsKICAgICAgfTsKICAgICAgcmVhZGVyLnJlYWRBc0FycmF5QnVmZmVyKGZpbGUpOwogICAgfSk7CiAgICAvLyBXYWl0IGZvciB0aGUgZGF0YSB0byBiZSByZWFkeS4KICAgIGxldCBmaWxlRGF0YSA9IHlpZWxkIHsKICAgICAgcHJvbWlzZTogZmlsZURhdGFQcm9taXNlLAogICAgICByZXNwb25zZTogewogICAgICAgIGFjdGlvbjogJ2NvbnRpbnVlJywKICAgICAgfQogICAgfTsKCiAgICAvLyBVc2UgYSBjaHVua2VkIHNlbmRpbmcgdG8gYXZvaWQgbWVzc2FnZSBzaXplIGxpbWl0cy4gU2VlIGIvNjIxMTU2NjAuCiAgICBsZXQgcG9zaXRpb24gPSAwOwogICAgZG8gewogICAgICBjb25zdCBsZW5ndGggPSBNYXRoLm1pbihmaWxlRGF0YS5ieXRlTGVuZ3RoIC0gcG9zaXRpb24sIE1BWF9QQVlMT0FEX1NJWkUpOwogICAgICBjb25zdCBjaHVuayA9IG5ldyBVaW50OEFycmF5KGZpbGVEYXRhLCBwb3NpdGlvbiwgbGVuZ3RoKTsKICAgICAgcG9zaXRpb24gKz0gbGVuZ3RoOwoKICAgICAgY29uc3QgYmFzZTY0ID0gYnRvYShTdHJpbmcuZnJvbUNoYXJDb2RlLmFwcGx5KG51bGwsIGNodW5rKSk7CiAgICAgIHlpZWxkIHsKICAgICAgICByZXNwb25zZTogewogICAgICAgICAgYWN0aW9uOiAnYXBwZW5kJywKICAgICAgICAgIGZpbGU6IGZpbGUubmFtZSwKICAgICAgICAgIGRhdGE6IGJhc2U2NCwKICAgICAgICB9LAogICAgICB9OwoKICAgICAgbGV0IHBlcmNlbnREb25lID0gZmlsZURhdGEuYnl0ZUxlbmd0aCA9PT0gMCA/CiAgICAgICAgICAxMDAgOgogICAgICAgICAgTWF0aC5yb3VuZCgocG9zaXRpb24gLyBmaWxlRGF0YS5ieXRlTGVuZ3RoKSAqIDEwMCk7CiAgICAgIHBlcmNlbnQudGV4dENvbnRlbnQgPSBgJHtwZXJjZW50RG9uZX0lIGRvbmVgOwoKICAgIH0gd2hpbGUgKHBvc2l0aW9uIDwgZmlsZURhdGEuYnl0ZUxlbmd0aCk7CiAgfQoKICAvLyBBbGwgZG9uZS4KICB5aWVsZCB7CiAgICByZXNwb25zZTogewogICAgICBhY3Rpb246ICdjb21wbGV0ZScsCiAgICB9CiAgfTsKfQoKc2NvcGUuZ29vZ2xlID0gc2NvcGUuZ29vZ2xlIHx8IHt9OwpzY29wZS5nb29nbGUuY29sYWIgPSBzY29wZS5nb29nbGUuY29sYWIgfHwge307CnNjb3BlLmdvb2dsZS5jb2xhYi5fZmlsZXMgPSB7CiAgX3VwbG9hZEZpbGVzLAogIF91cGxvYWRGaWxlc0NvbnRpbnVlLAp9Owp9KShzZWxmKTsK",
              "ok": true,
              "headers": [
                [
                  "content-type",
                  "application/javascript"
                ]
              ],
              "status": 200,
              "status_text": ""
            }
          },
          "base_uri": "https://localhost:8080/",
          "height": 73
        },
        "id": "GTRH1_LRG54E",
        "outputId": "be514937-4b81-42fd-ae78-b16e3abdb8b0"
      },
      "source": [
        "from google.colab import files\n",
        "uploaded = files.upload()"
      ],
      "execution_count": 34,
      "outputs": [
        {
          "output_type": "display_data",
          "data": {
            "text/html": [
              "\n",
              "     <input type=\"file\" id=\"files-a819b4d7-bd3d-412f-86e1-36c0be65fb80\" name=\"files[]\" multiple disabled\n",
              "        style=\"border:none\" />\n",
              "     <output id=\"result-a819b4d7-bd3d-412f-86e1-36c0be65fb80\">\n",
              "      Upload widget is only available when the cell has been executed in the\n",
              "      current browser session. Please rerun this cell to enable.\n",
              "      </output>\n",
              "      <script src=\"/nbextensions/google.colab/files.js\"></script> "
            ],
            "text/plain": [
              "<IPython.core.display.HTML object>"
            ]
          },
          "metadata": {
            "tags": []
          }
        },
        {
          "output_type": "stream",
          "text": [
            "Saving STP.csv to STP.csv\n"
          ],
          "name": "stdout"
        }
      ]
    },
    {
      "cell_type": "code",
      "metadata": {
        "colab": {
          "base_uri": "https://localhost:8080/"
        },
        "id": "PDPeIOp9HPgq",
        "outputId": "5e473983-5f83-4fd5-db53-b5d4a3e3246a"
      },
      "source": [
        "stp=pd.read_csv(\"STP.csv\")\n",
        "stp.info()"
      ],
      "execution_count": 36,
      "outputs": [
        {
          "output_type": "stream",
          "text": [
            "<class 'pandas.core.frame.DataFrame'>\n",
            "RangeIndex: 136 entries, 0 to 135\n",
            "Data columns (total 17 columns):\n",
            " #   Column                Non-Null Count  Dtype  \n",
            "---  ------                --------------  -----  \n",
            " 0   Date                  136 non-null    object \n",
            " 1   Influent BOD5         136 non-null    int64  \n",
            " 2   Influent TSS          136 non-null    int64  \n",
            " 3   Influent NH3          136 non-null    float64\n",
            " 4   temperature           136 non-null    float64\n",
            " 5   Influent pH           136 non-null    float64\n",
            " 6   Influent Alkalinity   136 non-null    int64  \n",
            " 7   Effluent BOD5         136 non-null    float64\n",
            " 8   Effluent TSS          136 non-null    float64\n",
            " 9   Effluent NH3          136 non-null    float64\n",
            " 10  Aerobic NOx           136 non-null    float64\n",
            " 11  Effluent pH           136 non-null    float64\n",
            " 12  Field MLSS            136 non-null    float64\n",
            " 13  Anoxic tank DO        136 non-null    float64\n",
            " 14  Aerobic NH3           136 non-null    float64\n",
            " 15  Aerobic DO            136 non-null    float64\n",
            " 16  Unnamed: 16           0 non-null      float64\n",
            "dtypes: float64(13), int64(3), object(1)\n",
            "memory usage: 18.2+ KB\n"
          ],
          "name": "stdout"
        }
      ]
    },
    {
      "cell_type": "code",
      "metadata": {
        "colab": {
          "base_uri": "https://localhost:8080/"
        },
        "id": "79bl1xECjDXj",
        "outputId": "96e921e2-90c4-4245-9d27-983e72836f34"
      },
      "source": [
        "stp.pop('Influent TSS')\n",
        "stp.pop('Effluent TSS')\n",
        "stp.pop('Unnamed: 16')\n",
        "stp.pop('Date')\n",
        "stp.info()"
      ],
      "execution_count": 38,
      "outputs": [
        {
          "output_type": "stream",
          "text": [
            "<class 'pandas.core.frame.DataFrame'>\n",
            "RangeIndex: 136 entries, 0 to 135\n",
            "Data columns (total 13 columns):\n",
            " #   Column                Non-Null Count  Dtype  \n",
            "---  ------                --------------  -----  \n",
            " 0   Influent BOD5         136 non-null    int64  \n",
            " 1   Influent NH3          136 non-null    float64\n",
            " 2   temperature           136 non-null    float64\n",
            " 3   Influent pH           136 non-null    float64\n",
            " 4   Influent Alkalinity   136 non-null    int64  \n",
            " 5   Effluent BOD5         136 non-null    float64\n",
            " 6   Effluent NH3          136 non-null    float64\n",
            " 7   Aerobic NOx           136 non-null    float64\n",
            " 8   Effluent pH           136 non-null    float64\n",
            " 9   Field MLSS            136 non-null    float64\n",
            " 10  Anoxic tank DO        136 non-null    float64\n",
            " 11  Aerobic NH3           136 non-null    float64\n",
            " 12  Aerobic DO            136 non-null    float64\n",
            "dtypes: float64(11), int64(2)\n",
            "memory usage: 13.9 KB\n"
          ],
          "name": "stdout"
        }
      ]
    },
    {
      "cell_type": "code",
      "metadata": {
        "id": "9aqqOJOfj7mW"
      },
      "source": [
        "X=stp.drop(['Effluent BOD5'],axis=1).values\n",
        "y=stp['Effluent BOD5'].values"
      ],
      "execution_count": 40,
      "outputs": []
    },
    {
      "cell_type": "code",
      "metadata": {
        "id": "8kEDoAkcIWHm"
      },
      "source": [
        "from sklearn.model_selection import train_test_split\n",
        "X_train_full,X_test,y_train_full,y_test=train_test_split(X,y,random_state=42)\n",
        "X_train,X_valid,y_train,y_valid=train_test_split(X_train_full,y_train_full, random_state=23)"
      ],
      "execution_count": 97,
      "outputs": []
    },
    {
      "cell_type": "code",
      "metadata": {
        "colab": {
          "base_uri": "https://localhost:8080/"
        },
        "id": "Taujqg6WJsh-",
        "outputId": "be280ce3-f191-4ee0-8788-daefbac3eef8"
      },
      "source": [
        "X_train.shape, y_train.shape"
      ],
      "execution_count": 98,
      "outputs": [
        {
          "output_type": "execute_result",
          "data": {
            "text/plain": [
              "((76, 12), (76,))"
            ]
          },
          "metadata": {
            "tags": []
          },
          "execution_count": 98
        }
      ]
    },
    {
      "cell_type": "code",
      "metadata": {
        "colab": {
          "base_uri": "https://localhost:8080/"
        },
        "id": "bnSUHTzYJztZ",
        "outputId": "96bc6977-9697-48ff-b6c9-380348593b79"
      },
      "source": [
        "X_valid.shape, y_valid.shape"
      ],
      "execution_count": 99,
      "outputs": [
        {
          "output_type": "execute_result",
          "data": {
            "text/plain": [
              "((26, 12), (26,))"
            ]
          },
          "metadata": {
            "tags": []
          },
          "execution_count": 99
        }
      ]
    },
    {
      "cell_type": "code",
      "metadata": {
        "colab": {
          "base_uri": "https://localhost:8080/"
        },
        "id": "B5hpB5wPJ8TG",
        "outputId": "073694be-f685-4ef9-bec5-4784afc6efc7"
      },
      "source": [
        "X_test.shape, y_test.shape"
      ],
      "execution_count": 100,
      "outputs": [
        {
          "output_type": "execute_result",
          "data": {
            "text/plain": [
              "((34, 12), (34,))"
            ]
          },
          "metadata": {
            "tags": []
          },
          "execution_count": 100
        }
      ]
    },
    {
      "cell_type": "code",
      "metadata": {
        "id": "6RTHb2ZCUVAG"
      },
      "source": [
        "from sklearn.preprocessing import StandardScaler\n",
        "scaler=StandardScaler()\n",
        "X_train=scaler.fit_transform(X_train)\n",
        "X_valid=scaler.transform(X_valid)\n",
        "X_test=scaler.transform(X_test)"
      ],
      "execution_count": 101,
      "outputs": []
    },
    {
      "cell_type": "code",
      "metadata": {
        "id": "Qukdiu4_VodI"
      },
      "source": [
        "np.random.seed(23)\n",
        "tf.random.set_seed(23)"
      ],
      "execution_count": 102,
      "outputs": []
    },
    {
      "cell_type": "code",
      "metadata": {
        "id": "uZAPWAuoV3qn"
      },
      "source": [
        "model = tf.keras.Sequential([\n",
        "    keras.layers.Dense(30, activation=\"relu\", input_shape=[12]),\n",
        "    keras.layers.Dense(30, activation=\"relu\"),\n",
        "    keras.layers.Dense(1)\n",
        "])"
      ],
      "execution_count": 103,
      "outputs": []
    },
    {
      "cell_type": "code",
      "metadata": {
        "id": "nJNpcglCX7OT"
      },
      "source": [
        "model.compile(loss=\"mean_squared_error\",\n",
        "              optimizer=keras.optimizers.SGD(learning_rate=1e-3),\n",
        "              metrics=['mae'])"
      ],
      "execution_count": 104,
      "outputs": []
    },
    {
      "cell_type": "code",
      "metadata": {
        "colab": {
          "base_uri": "https://localhost:8080/"
        },
        "id": "vxo17EXcbUrQ",
        "outputId": "44d0c0ab-4c58-48ce-d30b-5412463043d4"
      },
      "source": [
        "model_history=model.fit(X_train,y_train, epochs=100, validation_data=(X_valid, y_valid))"
      ],
      "execution_count": 116,
      "outputs": [
        {
          "output_type": "stream",
          "text": [
            "Epoch 1/100\n",
            "3/3 [==============================] - 0s 27ms/step - loss: 0.3819 - mae: 0.4457 - val_loss: 5.5879 - val_mae: 1.4175\n",
            "Epoch 2/100\n",
            "3/3 [==============================] - 0s 11ms/step - loss: 0.3832 - mae: 0.4458 - val_loss: 5.5888 - val_mae: 1.4181\n",
            "Epoch 3/100\n",
            "3/3 [==============================] - 0s 12ms/step - loss: 0.3808 - mae: 0.4461 - val_loss: 5.5909 - val_mae: 1.4184\n",
            "Epoch 4/100\n",
            "3/3 [==============================] - 0s 12ms/step - loss: 0.3807 - mae: 0.4461 - val_loss: 5.5920 - val_mae: 1.4187\n",
            "Epoch 5/100\n",
            "3/3 [==============================] - 0s 12ms/step - loss: 0.3802 - mae: 0.4452 - val_loss: 5.5910 - val_mae: 1.4186\n",
            "Epoch 6/100\n",
            "3/3 [==============================] - 0s 12ms/step - loss: 0.3802 - mae: 0.4454 - val_loss: 5.5915 - val_mae: 1.4190\n",
            "Epoch 7/100\n",
            "3/3 [==============================] - 0s 11ms/step - loss: 0.3792 - mae: 0.4449 - val_loss: 5.5913 - val_mae: 1.4189\n",
            "Epoch 8/100\n",
            "3/3 [==============================] - 0s 11ms/step - loss: 0.3799 - mae: 0.4460 - val_loss: 5.5914 - val_mae: 1.4195\n",
            "Epoch 9/100\n",
            "3/3 [==============================] - 0s 12ms/step - loss: 0.3786 - mae: 0.4454 - val_loss: 5.5929 - val_mae: 1.4197\n",
            "Epoch 10/100\n",
            "3/3 [==============================] - 0s 12ms/step - loss: 0.3781 - mae: 0.4451 - val_loss: 5.5922 - val_mae: 1.4197\n",
            "Epoch 11/100\n",
            "3/3 [==============================] - 0s 12ms/step - loss: 0.3778 - mae: 0.4453 - val_loss: 5.5981 - val_mae: 1.4199\n",
            "Epoch 12/100\n",
            "3/3 [==============================] - 0s 12ms/step - loss: 0.3776 - mae: 0.4446 - val_loss: 5.5967 - val_mae: 1.4202\n",
            "Epoch 13/100\n",
            "3/3 [==============================] - 0s 13ms/step - loss: 0.3776 - mae: 0.4439 - val_loss: 5.6014 - val_mae: 1.4208\n",
            "Epoch 14/100\n",
            "3/3 [==============================] - 0s 11ms/step - loss: 0.3767 - mae: 0.4437 - val_loss: 5.6045 - val_mae: 1.4202\n",
            "Epoch 15/100\n",
            "3/3 [==============================] - 0s 12ms/step - loss: 0.3763 - mae: 0.4432 - val_loss: 5.6069 - val_mae: 1.4202\n",
            "Epoch 16/100\n",
            "3/3 [==============================] - 0s 15ms/step - loss: 0.3758 - mae: 0.4431 - val_loss: 5.5998 - val_mae: 1.4198\n",
            "Epoch 17/100\n",
            "3/3 [==============================] - 0s 15ms/step - loss: 0.3764 - mae: 0.4435 - val_loss: 5.6016 - val_mae: 1.4198\n",
            "Epoch 18/100\n",
            "3/3 [==============================] - 0s 14ms/step - loss: 0.3750 - mae: 0.4432 - val_loss: 5.6013 - val_mae: 1.4196\n",
            "Epoch 19/100\n",
            "3/3 [==============================] - 0s 15ms/step - loss: 0.3745 - mae: 0.4434 - val_loss: 5.6064 - val_mae: 1.4197\n",
            "Epoch 20/100\n",
            "3/3 [==============================] - 0s 13ms/step - loss: 0.3742 - mae: 0.4432 - val_loss: 5.6065 - val_mae: 1.4200\n",
            "Epoch 21/100\n",
            "3/3 [==============================] - 0s 16ms/step - loss: 0.3739 - mae: 0.4430 - val_loss: 5.6104 - val_mae: 1.4207\n",
            "Epoch 22/100\n",
            "3/3 [==============================] - 0s 13ms/step - loss: 0.3735 - mae: 0.4433 - val_loss: 5.6135 - val_mae: 1.4213\n",
            "Epoch 23/100\n",
            "3/3 [==============================] - 0s 14ms/step - loss: 0.3735 - mae: 0.4429 - val_loss: 5.6114 - val_mae: 1.4209\n",
            "Epoch 24/100\n",
            "3/3 [==============================] - 0s 12ms/step - loss: 0.3736 - mae: 0.4428 - val_loss: 5.6116 - val_mae: 1.4208\n",
            "Epoch 25/100\n",
            "3/3 [==============================] - 0s 12ms/step - loss: 0.3728 - mae: 0.4424 - val_loss: 5.6121 - val_mae: 1.4209\n",
            "Epoch 26/100\n",
            "3/3 [==============================] - 0s 15ms/step - loss: 0.3734 - mae: 0.4440 - val_loss: 5.6115 - val_mae: 1.4206\n",
            "Epoch 27/100\n",
            "3/3 [==============================] - 0s 13ms/step - loss: 0.3718 - mae: 0.4438 - val_loss: 5.6160 - val_mae: 1.4213\n",
            "Epoch 28/100\n",
            "3/3 [==============================] - 0s 15ms/step - loss: 0.3722 - mae: 0.4425 - val_loss: 5.6186 - val_mae: 1.4214\n",
            "Epoch 29/100\n",
            "3/3 [==============================] - 0s 14ms/step - loss: 0.3710 - mae: 0.4419 - val_loss: 5.6146 - val_mae: 1.4214\n",
            "Epoch 30/100\n",
            "3/3 [==============================] - 0s 13ms/step - loss: 0.3709 - mae: 0.4420 - val_loss: 5.6189 - val_mae: 1.4216\n",
            "Epoch 31/100\n",
            "3/3 [==============================] - 0s 12ms/step - loss: 0.3706 - mae: 0.4417 - val_loss: 5.6168 - val_mae: 1.4209\n",
            "Epoch 32/100\n",
            "3/3 [==============================] - 0s 15ms/step - loss: 0.3703 - mae: 0.4427 - val_loss: 5.6188 - val_mae: 1.4213\n",
            "Epoch 33/100\n",
            "3/3 [==============================] - 0s 14ms/step - loss: 0.3696 - mae: 0.4417 - val_loss: 5.6203 - val_mae: 1.4216\n",
            "Epoch 34/100\n",
            "3/3 [==============================] - 0s 12ms/step - loss: 0.3696 - mae: 0.4410 - val_loss: 5.6151 - val_mae: 1.4216\n",
            "Epoch 35/100\n",
            "3/3 [==============================] - 0s 13ms/step - loss: 0.3687 - mae: 0.4401 - val_loss: 5.6188 - val_mae: 1.4224\n",
            "Epoch 36/100\n",
            "3/3 [==============================] - 0s 14ms/step - loss: 0.3690 - mae: 0.4401 - val_loss: 5.6183 - val_mae: 1.4222\n",
            "Epoch 37/100\n",
            "3/3 [==============================] - 0s 13ms/step - loss: 0.3677 - mae: 0.4396 - val_loss: 5.6208 - val_mae: 1.4226\n",
            "Epoch 38/100\n",
            "3/3 [==============================] - 0s 12ms/step - loss: 0.3675 - mae: 0.4395 - val_loss: 5.6253 - val_mae: 1.4234\n",
            "Epoch 39/100\n",
            "3/3 [==============================] - 0s 12ms/step - loss: 0.3678 - mae: 0.4390 - val_loss: 5.6282 - val_mae: 1.4233\n",
            "Epoch 40/100\n",
            "3/3 [==============================] - 0s 12ms/step - loss: 0.3670 - mae: 0.4387 - val_loss: 5.6266 - val_mae: 1.4229\n",
            "Epoch 41/100\n",
            "3/3 [==============================] - 0s 15ms/step - loss: 0.3672 - mae: 0.4391 - val_loss: 5.6298 - val_mae: 1.4236\n",
            "Epoch 42/100\n",
            "3/3 [==============================] - 0s 12ms/step - loss: 0.3666 - mae: 0.4382 - val_loss: 5.6325 - val_mae: 1.4239\n",
            "Epoch 43/100\n",
            "3/3 [==============================] - 0s 14ms/step - loss: 0.3662 - mae: 0.4379 - val_loss: 5.6310 - val_mae: 1.4247\n",
            "Epoch 44/100\n",
            "3/3 [==============================] - 0s 15ms/step - loss: 0.3657 - mae: 0.4374 - val_loss: 5.6332 - val_mae: 1.4250\n",
            "Epoch 45/100\n",
            "3/3 [==============================] - 0s 15ms/step - loss: 0.3651 - mae: 0.4371 - val_loss: 5.6351 - val_mae: 1.4249\n",
            "Epoch 46/100\n",
            "3/3 [==============================] - 0s 14ms/step - loss: 0.3660 - mae: 0.4377 - val_loss: 5.6393 - val_mae: 1.4254\n",
            "Epoch 47/100\n",
            "3/3 [==============================] - 0s 15ms/step - loss: 0.3647 - mae: 0.4360 - val_loss: 5.6369 - val_mae: 1.4255\n",
            "Epoch 48/100\n",
            "3/3 [==============================] - 0s 17ms/step - loss: 0.3644 - mae: 0.4360 - val_loss: 5.6401 - val_mae: 1.4263\n",
            "Epoch 49/100\n",
            "3/3 [==============================] - 0s 14ms/step - loss: 0.3642 - mae: 0.4358 - val_loss: 5.6367 - val_mae: 1.4262\n",
            "Epoch 50/100\n",
            "3/3 [==============================] - 0s 15ms/step - loss: 0.3632 - mae: 0.4355 - val_loss: 5.6335 - val_mae: 1.4257\n",
            "Epoch 51/100\n",
            "3/3 [==============================] - 0s 16ms/step - loss: 0.3632 - mae: 0.4352 - val_loss: 5.6367 - val_mae: 1.4261\n",
            "Epoch 52/100\n",
            "3/3 [==============================] - 0s 15ms/step - loss: 0.3630 - mae: 0.4355 - val_loss: 5.6358 - val_mae: 1.4265\n",
            "Epoch 53/100\n",
            "3/3 [==============================] - 0s 14ms/step - loss: 0.3621 - mae: 0.4353 - val_loss: 5.6370 - val_mae: 1.4263\n",
            "Epoch 54/100\n",
            "3/3 [==============================] - 0s 15ms/step - loss: 0.3619 - mae: 0.4351 - val_loss: 5.6362 - val_mae: 1.4267\n",
            "Epoch 55/100\n",
            "3/3 [==============================] - 0s 13ms/step - loss: 0.3621 - mae: 0.4350 - val_loss: 5.6303 - val_mae: 1.4266\n",
            "Epoch 56/100\n",
            "3/3 [==============================] - 0s 14ms/step - loss: 0.3613 - mae: 0.4345 - val_loss: 5.6310 - val_mae: 1.4266\n",
            "Epoch 57/100\n",
            "3/3 [==============================] - 0s 14ms/step - loss: 0.3611 - mae: 0.4345 - val_loss: 5.6312 - val_mae: 1.4271\n",
            "Epoch 58/100\n",
            "3/3 [==============================] - 0s 14ms/step - loss: 0.3623 - mae: 0.4352 - val_loss: 5.6343 - val_mae: 1.4276\n",
            "Epoch 59/100\n",
            "3/3 [==============================] - 0s 14ms/step - loss: 0.3618 - mae: 0.4348 - val_loss: 5.6214 - val_mae: 1.4264\n",
            "Epoch 60/100\n",
            "3/3 [==============================] - 0s 13ms/step - loss: 0.3606 - mae: 0.4350 - val_loss: 5.6287 - val_mae: 1.4267\n",
            "Epoch 61/100\n",
            "3/3 [==============================] - 0s 15ms/step - loss: 0.3595 - mae: 0.4339 - val_loss: 5.6259 - val_mae: 1.4269\n",
            "Epoch 62/100\n",
            "3/3 [==============================] - 0s 12ms/step - loss: 0.3594 - mae: 0.4339 - val_loss: 5.6331 - val_mae: 1.4270\n",
            "Epoch 63/100\n",
            "3/3 [==============================] - 0s 12ms/step - loss: 0.3587 - mae: 0.4339 - val_loss: 5.6324 - val_mae: 1.4269\n",
            "Epoch 64/100\n",
            "3/3 [==============================] - 0s 13ms/step - loss: 0.3588 - mae: 0.4341 - val_loss: 5.6305 - val_mae: 1.4269\n",
            "Epoch 65/100\n",
            "3/3 [==============================] - 0s 15ms/step - loss: 0.3582 - mae: 0.4339 - val_loss: 5.6384 - val_mae: 1.4273\n",
            "Epoch 66/100\n",
            "3/3 [==============================] - 0s 13ms/step - loss: 0.3582 - mae: 0.4332 - val_loss: 5.6341 - val_mae: 1.4272\n",
            "Epoch 67/100\n",
            "3/3 [==============================] - 0s 16ms/step - loss: 0.3577 - mae: 0.4331 - val_loss: 5.6323 - val_mae: 1.4276\n",
            "Epoch 68/100\n",
            "3/3 [==============================] - 0s 18ms/step - loss: 0.3572 - mae: 0.4329 - val_loss: 5.6341 - val_mae: 1.4279\n",
            "Epoch 69/100\n",
            "3/3 [==============================] - 0s 11ms/step - loss: 0.3569 - mae: 0.4317 - val_loss: 5.6398 - val_mae: 1.4279\n",
            "Epoch 70/100\n",
            "3/3 [==============================] - 0s 12ms/step - loss: 0.3565 - mae: 0.4325 - val_loss: 5.6396 - val_mae: 1.4277\n",
            "Epoch 71/100\n",
            "3/3 [==============================] - 0s 13ms/step - loss: 0.3563 - mae: 0.4315 - val_loss: 5.6362 - val_mae: 1.4274\n",
            "Epoch 72/100\n",
            "3/3 [==============================] - 0s 12ms/step - loss: 0.3558 - mae: 0.4317 - val_loss: 5.6406 - val_mae: 1.4284\n",
            "Epoch 73/100\n",
            "3/3 [==============================] - 0s 13ms/step - loss: 0.3556 - mae: 0.4319 - val_loss: 5.6415 - val_mae: 1.4290\n",
            "Epoch 74/100\n",
            "3/3 [==============================] - 0s 11ms/step - loss: 0.3549 - mae: 0.4313 - val_loss: 5.6406 - val_mae: 1.4290\n",
            "Epoch 75/100\n",
            "3/3 [==============================] - 0s 15ms/step - loss: 0.3547 - mae: 0.4309 - val_loss: 5.6443 - val_mae: 1.4299\n",
            "Epoch 76/100\n",
            "3/3 [==============================] - 0s 12ms/step - loss: 0.3542 - mae: 0.4310 - val_loss: 5.6458 - val_mae: 1.4294\n",
            "Epoch 77/100\n",
            "3/3 [==============================] - 0s 12ms/step - loss: 0.3534 - mae: 0.4308 - val_loss: 5.6423 - val_mae: 1.4293\n",
            "Epoch 78/100\n",
            "3/3 [==============================] - 0s 13ms/step - loss: 0.3542 - mae: 0.4309 - val_loss: 5.6430 - val_mae: 1.4297\n",
            "Epoch 79/100\n",
            "3/3 [==============================] - 0s 13ms/step - loss: 0.3532 - mae: 0.4306 - val_loss: 5.6453 - val_mae: 1.4297\n",
            "Epoch 80/100\n",
            "3/3 [==============================] - 0s 15ms/step - loss: 0.3527 - mae: 0.4294 - val_loss: 5.6430 - val_mae: 1.4294\n",
            "Epoch 81/100\n",
            "3/3 [==============================] - 0s 13ms/step - loss: 0.3521 - mae: 0.4298 - val_loss: 5.6500 - val_mae: 1.4300\n",
            "Epoch 82/100\n",
            "3/3 [==============================] - 0s 12ms/step - loss: 0.3519 - mae: 0.4300 - val_loss: 5.6531 - val_mae: 1.4301\n",
            "Epoch 83/100\n",
            "3/3 [==============================] - 0s 11ms/step - loss: 0.3516 - mae: 0.4305 - val_loss: 5.6533 - val_mae: 1.4308\n",
            "Epoch 84/100\n",
            "3/3 [==============================] - 0s 11ms/step - loss: 0.3513 - mae: 0.4296 - val_loss: 5.6530 - val_mae: 1.4304\n",
            "Epoch 85/100\n",
            "3/3 [==============================] - 0s 12ms/step - loss: 0.3513 - mae: 0.4297 - val_loss: 5.6538 - val_mae: 1.4302\n",
            "Epoch 86/100\n",
            "3/3 [==============================] - 0s 14ms/step - loss: 0.3506 - mae: 0.4293 - val_loss: 5.6562 - val_mae: 1.4306\n",
            "Epoch 87/100\n",
            "3/3 [==============================] - 0s 15ms/step - loss: 0.3504 - mae: 0.4298 - val_loss: 5.6534 - val_mae: 1.4306\n",
            "Epoch 88/100\n",
            "3/3 [==============================] - 0s 16ms/step - loss: 0.3504 - mae: 0.4293 - val_loss: 5.6534 - val_mae: 1.4309\n",
            "Epoch 89/100\n",
            "3/3 [==============================] - 0s 14ms/step - loss: 0.3490 - mae: 0.4292 - val_loss: 5.6549 - val_mae: 1.4308\n",
            "Epoch 90/100\n",
            "3/3 [==============================] - 0s 12ms/step - loss: 0.3496 - mae: 0.4295 - val_loss: 5.6543 - val_mae: 1.4303\n",
            "Epoch 91/100\n",
            "3/3 [==============================] - 0s 12ms/step - loss: 0.3488 - mae: 0.4291 - val_loss: 5.6511 - val_mae: 1.4300\n",
            "Epoch 92/100\n",
            "3/3 [==============================] - 0s 14ms/step - loss: 0.3486 - mae: 0.4290 - val_loss: 5.6557 - val_mae: 1.4301\n",
            "Epoch 93/100\n",
            "3/3 [==============================] - 0s 14ms/step - loss: 0.3483 - mae: 0.4280 - val_loss: 5.6540 - val_mae: 1.4302\n",
            "Epoch 94/100\n",
            "3/3 [==============================] - 0s 16ms/step - loss: 0.3481 - mae: 0.4289 - val_loss: 5.6533 - val_mae: 1.4300\n",
            "Epoch 95/100\n",
            "3/3 [==============================] - 0s 13ms/step - loss: 0.3478 - mae: 0.4282 - val_loss: 5.6542 - val_mae: 1.4313\n",
            "Epoch 96/100\n",
            "3/3 [==============================] - 0s 14ms/step - loss: 0.3468 - mae: 0.4271 - val_loss: 5.6545 - val_mae: 1.4311\n",
            "Epoch 97/100\n",
            "3/3 [==============================] - 0s 14ms/step - loss: 0.3471 - mae: 0.4272 - val_loss: 5.6554 - val_mae: 1.4310\n",
            "Epoch 98/100\n",
            "3/3 [==============================] - 0s 13ms/step - loss: 0.3472 - mae: 0.4277 - val_loss: 5.6538 - val_mae: 1.4310\n",
            "Epoch 99/100\n",
            "3/3 [==============================] - 0s 16ms/step - loss: 0.3462 - mae: 0.4268 - val_loss: 5.6536 - val_mae: 1.4312\n",
            "Epoch 100/100\n",
            "3/3 [==============================] - 0s 13ms/step - loss: 0.3479 - mae: 0.4282 - val_loss: 5.6506 - val_mae: 1.4311\n"
          ],
          "name": "stdout"
        }
      ]
    },
    {
      "cell_type": "code",
      "metadata": {
        "colab": {
          "base_uri": "https://localhost:8080/"
        },
        "id": "3-PBCWdxcpQr",
        "outputId": "33f6110f-a31a-456d-967f-78859b9bb6d9"
      },
      "source": [
        "mae_test=model.evaluate(X_test,y_test)"
      ],
      "execution_count": 117,
      "outputs": [
        {
          "output_type": "stream",
          "text": [
            "2/2 [==============================] - 0s 7ms/step - loss: 6.6291 - mae: 1.4814\n"
          ],
          "name": "stdout"
        }
      ]
    },
    {
      "cell_type": "code",
      "metadata": {
        "colab": {
          "base_uri": "https://localhost:8080/"
        },
        "id": "Idwl1kd1c9mj",
        "outputId": "c6b2c409-4cac-4e4e-aa7d-e61d6a26a3e6"
      },
      "source": [
        "model_history.history"
      ],
      "execution_count": 118,
      "outputs": [
        {
          "output_type": "execute_result",
          "data": {
            "text/plain": [
              "{'loss': [0.38186535239219666,\n",
              "  0.38320600986480713,\n",
              "  0.3807816505432129,\n",
              "  0.38068658113479614,\n",
              "  0.3802335560321808,\n",
              "  0.3801586925983429,\n",
              "  0.3791947662830353,\n",
              "  0.3799147307872772,\n",
              "  0.3785681426525116,\n",
              "  0.378121554851532,\n",
              "  0.3777576684951782,\n",
              "  0.37756115198135376,\n",
              "  0.37760332226753235,\n",
              "  0.37672677636146545,\n",
              "  0.37630146741867065,\n",
              "  0.37576013803482056,\n",
              "  0.376368910074234,\n",
              "  0.3749741017818451,\n",
              "  0.37453052401542664,\n",
              "  0.3742186427116394,\n",
              "  0.3738706409931183,\n",
              "  0.3734654486179352,\n",
              "  0.3735085129737854,\n",
              "  0.3736385405063629,\n",
              "  0.3728143572807312,\n",
              "  0.37339282035827637,\n",
              "  0.3718315064907074,\n",
              "  0.37215128540992737,\n",
              "  0.3710169494152069,\n",
              "  0.37094739079475403,\n",
              "  0.3705873489379883,\n",
              "  0.3703066110610962,\n",
              "  0.3695889413356781,\n",
              "  0.3695584833621979,\n",
              "  0.36874425411224365,\n",
              "  0.3690001368522644,\n",
              "  0.3677307665348053,\n",
              "  0.3674722909927368,\n",
              "  0.3678315579891205,\n",
              "  0.3669699728488922,\n",
              "  0.36722415685653687,\n",
              "  0.3666015565395355,\n",
              "  0.3662441670894623,\n",
              "  0.3656805455684662,\n",
              "  0.36513248085975647,\n",
              "  0.36598503589630127,\n",
              "  0.36472129821777344,\n",
              "  0.3644397556781769,\n",
              "  0.36422741413116455,\n",
              "  0.3631773591041565,\n",
              "  0.3632237911224365,\n",
              "  0.36301276087760925,\n",
              "  0.3621450364589691,\n",
              "  0.36186057329177856,\n",
              "  0.3620527684688568,\n",
              "  0.3612874150276184,\n",
              "  0.3610551059246063,\n",
              "  0.36229822039604187,\n",
              "  0.36180076003074646,\n",
              "  0.36064818501472473,\n",
              "  0.3594937324523926,\n",
              "  0.3594171702861786,\n",
              "  0.35865119099617004,\n",
              "  0.35879409313201904,\n",
              "  0.3582265377044678,\n",
              "  0.35819363594055176,\n",
              "  0.357680082321167,\n",
              "  0.357234388589859,\n",
              "  0.3569173216819763,\n",
              "  0.3564728796482086,\n",
              "  0.3562993109226227,\n",
              "  0.35582029819488525,\n",
              "  0.35561761260032654,\n",
              "  0.3548818528652191,\n",
              "  0.3546832501888275,\n",
              "  0.35421958565711975,\n",
              "  0.3533875644207001,\n",
              "  0.3542248010635376,\n",
              "  0.3531809151172638,\n",
              "  0.35270264744758606,\n",
              "  0.3520948588848114,\n",
              "  0.35189303755760193,\n",
              "  0.35160836577415466,\n",
              "  0.35129642486572266,\n",
              "  0.3512957990169525,\n",
              "  0.3506484925746918,\n",
              "  0.3504061698913574,\n",
              "  0.3503546416759491,\n",
              "  0.34898272156715393,\n",
              "  0.34961727261543274,\n",
              "  0.3487890064716339,\n",
              "  0.348560631275177,\n",
              "  0.3483363687992096,\n",
              "  0.3480564057826996,\n",
              "  0.3477535545825958,\n",
              "  0.34681233763694763,\n",
              "  0.3470858037471771,\n",
              "  0.3472122848033905,\n",
              "  0.3462260365486145,\n",
              "  0.3478575348854065],\n",
              " 'mae': [0.4457269608974457,\n",
              "  0.4458445608615875,\n",
              "  0.4460862874984741,\n",
              "  0.4460815489292145,\n",
              "  0.44516825675964355,\n",
              "  0.4454272389411926,\n",
              "  0.44487264752388,\n",
              "  0.44599100947380066,\n",
              "  0.44536760449409485,\n",
              "  0.44507017731666565,\n",
              "  0.4453112483024597,\n",
              "  0.44464001059532166,\n",
              "  0.44389814138412476,\n",
              "  0.4436916410923004,\n",
              "  0.4431760609149933,\n",
              "  0.44313305616378784,\n",
              "  0.44345012307167053,\n",
              "  0.44324934482574463,\n",
              "  0.4434055984020233,\n",
              "  0.4431793689727783,\n",
              "  0.4430054724216461,\n",
              "  0.4432569742202759,\n",
              "  0.442914754152298,\n",
              "  0.44282591342926025,\n",
              "  0.442375123500824,\n",
              "  0.44404080510139465,\n",
              "  0.4437520503997803,\n",
              "  0.4425470530986786,\n",
              "  0.4419161081314087,\n",
              "  0.4419794976711273,\n",
              "  0.44172024726867676,\n",
              "  0.4427066147327423,\n",
              "  0.44172367453575134,\n",
              "  0.4409923553466797,\n",
              "  0.4401329457759857,\n",
              "  0.44013816118240356,\n",
              "  0.43957003951072693,\n",
              "  0.43948283791542053,\n",
              "  0.43901941180229187,\n",
              "  0.4387005865573883,\n",
              "  0.43911346793174744,\n",
              "  0.4381740391254425,\n",
              "  0.43789321184158325,\n",
              "  0.4373719096183777,\n",
              "  0.43707275390625,\n",
              "  0.4376601278781891,\n",
              "  0.43603259325027466,\n",
              "  0.43595269322395325,\n",
              "  0.4358375072479248,\n",
              "  0.4354751408100128,\n",
              "  0.4352351129055023,\n",
              "  0.4355481266975403,\n",
              "  0.43525049090385437,\n",
              "  0.43514442443847656,\n",
              "  0.4350154399871826,\n",
              "  0.434452623128891,\n",
              "  0.4345451295375824,\n",
              "  0.4351544678211212,\n",
              "  0.43484747409820557,\n",
              "  0.43502867221832275,\n",
              "  0.43387192487716675,\n",
              "  0.43386223912239075,\n",
              "  0.4339296817779541,\n",
              "  0.4341498911380768,\n",
              "  0.4339016377925873,\n",
              "  0.4331584870815277,\n",
              "  0.4330553710460663,\n",
              "  0.43294987082481384,\n",
              "  0.4317365884780884,\n",
              "  0.4324755370616913,\n",
              "  0.43151935935020447,\n",
              "  0.43169790506362915,\n",
              "  0.4318632185459137,\n",
              "  0.431263267993927,\n",
              "  0.4309373199939728,\n",
              "  0.43095317482948303,\n",
              "  0.430776983499527,\n",
              "  0.4308864176273346,\n",
              "  0.43055564165115356,\n",
              "  0.42938730120658875,\n",
              "  0.42980384826660156,\n",
              "  0.4299614131450653,\n",
              "  0.4304969608783722,\n",
              "  0.4295647144317627,\n",
              "  0.4297356903553009,\n",
              "  0.4293088912963867,\n",
              "  0.4297759532928467,\n",
              "  0.42933574318885803,\n",
              "  0.42916107177734375,\n",
              "  0.42947474122047424,\n",
              "  0.42906635999679565,\n",
              "  0.4290217459201813,\n",
              "  0.4280085861682892,\n",
              "  0.42887261509895325,\n",
              "  0.42815911769866943,\n",
              "  0.4271465241909027,\n",
              "  0.4271751344203949,\n",
              "  0.4277050495147705,\n",
              "  0.42677807807922363,\n",
              "  0.4281558096408844],\n",
              " 'val_loss': [5.587874412536621,\n",
              "  5.588781356811523,\n",
              "  5.590893268585205,\n",
              "  5.591980934143066,\n",
              "  5.590950012207031,\n",
              "  5.591529846191406,\n",
              "  5.591316223144531,\n",
              "  5.59140682220459,\n",
              "  5.592874526977539,\n",
              "  5.592247009277344,\n",
              "  5.598099708557129,\n",
              "  5.5966925621032715,\n",
              "  5.601351261138916,\n",
              "  5.604460716247559,\n",
              "  5.606879234313965,\n",
              "  5.599837779998779,\n",
              "  5.601611614227295,\n",
              "  5.601348400115967,\n",
              "  5.606359004974365,\n",
              "  5.60652494430542,\n",
              "  5.610418319702148,\n",
              "  5.6134867668151855,\n",
              "  5.61141300201416,\n",
              "  5.611615180969238,\n",
              "  5.612091064453125,\n",
              "  5.6114959716796875,\n",
              "  5.616012096405029,\n",
              "  5.61862850189209,\n",
              "  5.614591121673584,\n",
              "  5.618932723999023,\n",
              "  5.616785526275635,\n",
              "  5.618835926055908,\n",
              "  5.62026309967041,\n",
              "  5.61513614654541,\n",
              "  5.618766784667969,\n",
              "  5.61834192276001,\n",
              "  5.6208038330078125,\n",
              "  5.625283241271973,\n",
              "  5.628234386444092,\n",
              "  5.626596927642822,\n",
              "  5.629753589630127,\n",
              "  5.632486343383789,\n",
              "  5.6310343742370605,\n",
              "  5.633183002471924,\n",
              "  5.6350789070129395,\n",
              "  5.639256954193115,\n",
              "  5.636868000030518,\n",
              "  5.6400628089904785,\n",
              "  5.636702537536621,\n",
              "  5.6334943771362305,\n",
              "  5.6367058753967285,\n",
              "  5.635834217071533,\n",
              "  5.63698673248291,\n",
              "  5.636176109313965,\n",
              "  5.630293846130371,\n",
              "  5.6309709548950195,\n",
              "  5.6312031745910645,\n",
              "  5.634273052215576,\n",
              "  5.6214141845703125,\n",
              "  5.6287078857421875,\n",
              "  5.625922679901123,\n",
              "  5.633097171783447,\n",
              "  5.632375717163086,\n",
              "  5.630503177642822,\n",
              "  5.638433456420898,\n",
              "  5.634066104888916,\n",
              "  5.632344722747803,\n",
              "  5.634098529815674,\n",
              "  5.639777660369873,\n",
              "  5.639554023742676,\n",
              "  5.636223316192627,\n",
              "  5.640600204467773,\n",
              "  5.641535758972168,\n",
              "  5.640597820281982,\n",
              "  5.644254207611084,\n",
              "  5.645777225494385,\n",
              "  5.642298221588135,\n",
              "  5.6430277824401855,\n",
              "  5.6452717781066895,\n",
              "  5.643004894256592,\n",
              "  5.649958610534668,\n",
              "  5.653090953826904,\n",
              "  5.6533355712890625,\n",
              "  5.653045654296875,\n",
              "  5.653764724731445,\n",
              "  5.656209945678711,\n",
              "  5.653378486633301,\n",
              "  5.65341854095459,\n",
              "  5.654936790466309,\n",
              "  5.654271125793457,\n",
              "  5.651054382324219,\n",
              "  5.65568733215332,\n",
              "  5.654025077819824,\n",
              "  5.653327465057373,\n",
              "  5.654185771942139,\n",
              "  5.654504776000977,\n",
              "  5.655444622039795,\n",
              "  5.65381383895874,\n",
              "  5.653558731079102,\n",
              "  5.6506195068359375],\n",
              " 'val_mae': [1.4175091981887817,\n",
              "  1.4181480407714844,\n",
              "  1.4183545112609863,\n",
              "  1.4186580181121826,\n",
              "  1.418623685836792,\n",
              "  1.4189566373825073,\n",
              "  1.4189401865005493,\n",
              "  1.4195443391799927,\n",
              "  1.4197008609771729,\n",
              "  1.4197062253952026,\n",
              "  1.4199483394622803,\n",
              "  1.4202466011047363,\n",
              "  1.4208077192306519,\n",
              "  1.4201760292053223,\n",
              "  1.4202234745025635,\n",
              "  1.4197616577148438,\n",
              "  1.419801115989685,\n",
              "  1.4195635318756104,\n",
              "  1.4197487831115723,\n",
              "  1.4199796915054321,\n",
              "  1.420687198638916,\n",
              "  1.4212714433670044,\n",
              "  1.4209256172180176,\n",
              "  1.42078697681427,\n",
              "  1.4209047555923462,\n",
              "  1.4206210374832153,\n",
              "  1.421303391456604,\n",
              "  1.4213911294937134,\n",
              "  1.4213500022888184,\n",
              "  1.4216275215148926,\n",
              "  1.4208800792694092,\n",
              "  1.421339511871338,\n",
              "  1.421583652496338,\n",
              "  1.4215641021728516,\n",
              "  1.4223562479019165,\n",
              "  1.4221994876861572,\n",
              "  1.4226139783859253,\n",
              "  1.423419713973999,\n",
              "  1.4233359098434448,\n",
              "  1.4229315519332886,\n",
              "  1.4235844612121582,\n",
              "  1.4238578081130981,\n",
              "  1.4247063398361206,\n",
              "  1.4250094890594482,\n",
              "  1.4248853921890259,\n",
              "  1.425411343574524,\n",
              "  1.4254920482635498,\n",
              "  1.4263360500335693,\n",
              "  1.4261969327926636,\n",
              "  1.425681233406067,\n",
              "  1.426101565361023,\n",
              "  1.426515817642212,\n",
              "  1.4263314008712769,\n",
              "  1.4266518354415894,\n",
              "  1.426574468612671,\n",
              "  1.4265556335449219,\n",
              "  1.4271212816238403,\n",
              "  1.427619218826294,\n",
              "  1.4263657331466675,\n",
              "  1.4267184734344482,\n",
              "  1.4269483089447021,\n",
              "  1.4269988536834717,\n",
              "  1.4269415140151978,\n",
              "  1.4269185066223145,\n",
              "  1.427291750907898,\n",
              "  1.4272198677062988,\n",
              "  1.4276340007781982,\n",
              "  1.4278837442398071,\n",
              "  1.4278501272201538,\n",
              "  1.4277414083480835,\n",
              "  1.4273722171783447,\n",
              "  1.4283982515335083,\n",
              "  1.4289734363555908,\n",
              "  1.4289987087249756,\n",
              "  1.4299428462982178,\n",
              "  1.42941153049469,\n",
              "  1.4293417930603027,\n",
              "  1.4296656847000122,\n",
              "  1.4297372102737427,\n",
              "  1.4293978214263916,\n",
              "  1.4299613237380981,\n",
              "  1.4301294088363647,\n",
              "  1.4307727813720703,\n",
              "  1.4304089546203613,\n",
              "  1.4302278757095337,\n",
              "  1.430611252784729,\n",
              "  1.4305808544158936,\n",
              "  1.430898904800415,\n",
              "  1.4307920932769775,\n",
              "  1.430294156074524,\n",
              "  1.4299767017364502,\n",
              "  1.4301103353500366,\n",
              "  1.430235743522644,\n",
              "  1.430029034614563,\n",
              "  1.4312833547592163,\n",
              "  1.431143879890442,\n",
              "  1.4309624433517456,\n",
              "  1.4309817552566528,\n",
              "  1.4311972856521606,\n",
              "  1.431143879890442]}"
            ]
          },
          "metadata": {
            "tags": []
          },
          "execution_count": 118
        }
      ]
    },
    {
      "cell_type": "code",
      "metadata": {
        "colab": {
          "base_uri": "https://localhost:8080/",
          "height": 265
        },
        "id": "EF7DkoekdB-B",
        "outputId": "d8c39127-a06d-4729-a731-cec52fda24a8"
      },
      "source": [
        "pd.DataFrame(model_history.history).plot(kind='line')\n",
        "plt.grid(True)\n",
        "plt.show()"
      ],
      "execution_count": 119,
      "outputs": [
        {
          "output_type": "display_data",
          "data": {
            "image/png": "[encoded data removed]",
            "text/plain": [
              "<Figure size 432x288 with 1 Axes>"
            ]
          },
          "metadata": {
            "tags": [],
            "needs_background": "light"
          }
        }
      ]
    },
    {
      "cell_type": "code",
      "metadata": {
        "colab": {
          "base_uri": "https://localhost:8080/"
        },
        "id": "fGWAi_tEezF8",
        "outputId": "dbd937bd-d6fe-4e59-d692-8c3c0bf65973"
      },
      "source": [
        "y_predict=model.predict(X_test)\n",
        "y_predict,y_test.round(4)"
      ],
      "execution_count": 120,
      "outputs": [
        {
          "output_type": "execute_result",
          "data": {
            "text/plain": [
              "(array([[2.891915 ],\n",
              "        [3.479027 ],\n",
              "        [4.6948524],\n",
              "        [8.135889 ],\n",
              "        [3.00626  ],\n",
              "        [4.74233  ],\n",
              "        [5.0667243],\n",
              "        [5.523343 ],\n",
              "        [2.7097065],\n",
              "        [4.006379 ],\n",
              "        [3.9444807],\n",
              "        [5.9443083],\n",
              "        [3.691169 ],\n",
              "        [3.0184476],\n",
              "        [4.3859305],\n",
              "        [4.2283115],\n",
              "        [4.091854 ],\n",
              "        [3.1408591],\n",
              "        [4.705802 ],\n",
              "        [3.7711203],\n",
              "        [1.5243691],\n",
              "        [3.1391957],\n",
              "        [4.2645564],\n",
              "        [2.8569813],\n",
              "        [4.494782 ],\n",
              "        [5.0259123],\n",
              "        [4.3636403],\n",
              "        [4.866329 ],\n",
              "        [3.9683888],\n",
              "        [5.2831593],\n",
              "        [2.5914917],\n",
              "        [3.7763524],\n",
              "        [5.0389924],\n",
              "        [3.3660102]], dtype=float32),\n",
              " array([ 3.  ,  1.  ,  4.6 , 17.  ,  3.74,  4.8 ,  4.  ,  5.74, 10.  ,\n",
              "         4.2 ,  1.  ,  5.5 , 10.  ,  6.  ,  6.  ,  5.8 ,  4.11,  2.94,\n",
              "         2.  ,  3.57,  1.79,  3.49,  4.  ,  4.  ,  5.  ,  3.  ,  1.5 ,\n",
              "         5.5 ,  4.  ,  4.5 ,  3.07,  3.99,  4.8 ,  3.84]))"
            ]
          },
          "metadata": {
            "tags": []
          },
          "execution_count": 120
        }
      ]
    }
  ]
}