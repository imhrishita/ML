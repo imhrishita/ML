{
  "nbformat": 4,
  "nbformat_minor": 0,
  "metadata": {
    "colab": {
      "name": "Untitled2.ipynb",
      "provenance": [],
      "collapsed_sections": [],
      "authorship_tag": "ABX9TyOfIJR8xztcwDiYmCPnySqY",
      "include_colab_link": true
    },
    "kernelspec": {
      "name": "python3",
      "display_name": "Python 3"
    },
    "language_info": {
      "name": "python"
    }
  },
  "cells": [
    {
      "cell_type": "markdown",
      "metadata": {
        "id": "view-in-github",
        "colab_type": "text"
      },
      "source": [
        "<a href=\"https://colab.research.google.com/github/imhrishita/ML/blob/main/House-Price-Prediction.ipynb\" target=\"_parent\"><img src=\"https://colab.research.google.com/assets/colab-badge.svg\" alt=\"Open In Colab\"/></a>"
      ]
    },
    {
      "cell_type": "code",
      "metadata": {
        "id": "u4oqPnUjFsgE"
      },
      "source": [
        "import numpy as np\n",
        "import pandas as pd\n",
        "%matplotlib inline\n",
        "import matplotlib as mpl\n",
        "import matplotlib.pyplot as plt\n",
        "import tensorflow as tf\n",
        "from tensorflow import keras"
      ],
      "execution_count": 1,
      "outputs": []
    },
    {
      "cell_type": "code",
      "metadata": {
        "colab": {
          "base_uri": "https://localhost:8080/"
        },
        "id": "GTRH1_LRG54E",
        "outputId": "88e6eeb5-9776-4423-b6f6-aac8e3b2473a"
      },
      "source": [
        "from sklearn.datasets import fetch_california_housing\n",
        "housing=fetch_california_housing()"
      ],
      "execution_count": 2,
      "outputs": [
        {
          "output_type": "stream",
          "text": [
            "Downloading Cal. housing from https://ndownloader.figshare.com/files/5976036 to /root/scikit_learn_data\n"
          ],
          "name": "stderr"
        }
      ]
    },
    {
      "cell_type": "code",
      "metadata": {
        "colab": {
          "base_uri": "https://localhost:8080/"
        },
        "id": "PDPeIOp9HPgq",
        "outputId": "518c7d73-4e3a-4605-fbd5-eaca34e34e8f"
      },
      "source": [
        "housing.feature_names"
      ],
      "execution_count": 3,
      "outputs": [
        {
          "output_type": "execute_result",
          "data": {
            "text/plain": [
              "['MedInc',\n",
              " 'HouseAge',\n",
              " 'AveRooms',\n",
              " 'AveBedrms',\n",
              " 'Population',\n",
              " 'AveOccup',\n",
              " 'Latitude',\n",
              " 'Longitude']"
            ]
          },
          "metadata": {
            "tags": []
          },
          "execution_count": 3
        }
      ]
    },
    {
      "cell_type": "code",
      "metadata": {
        "id": "8kEDoAkcIWHm"
      },
      "source": [
        "from sklearn.model_selection import train_test_split\n",
        "X_train_full,X_test,y_train_full,y_test=train_test_split(housing.data,housing.target,random_state=42)\n",
        "X_train,X_valid,y_train,y_valid=train_test_split(X_train_full,y_train_full, random_state=42)"
      ],
      "execution_count": 4,
      "outputs": []
    },
    {
      "cell_type": "code",
      "metadata": {
        "colab": {
          "base_uri": "https://localhost:8080/"
        },
        "id": "Taujqg6WJsh-",
        "outputId": "8c806377-cc32-4cf2-d8d0-2a67764e874f"
      },
      "source": [
        "X_train.shape, y_train.shape"
      ],
      "execution_count": 10,
      "outputs": [
        {
          "output_type": "execute_result",
          "data": {
            "text/plain": [
              "((11610, 8), (11610,))"
            ]
          },
          "metadata": {
            "tags": []
          },
          "execution_count": 10
        }
      ]
    },
    {
      "cell_type": "code",
      "metadata": {
        "colab": {
          "base_uri": "https://localhost:8080/"
        },
        "id": "bnSUHTzYJztZ",
        "outputId": "be97c628-82c8-4e93-a0c1-f4713c5d6f8a"
      },
      "source": [
        "X_valid.shape, y_valid.shape"
      ],
      "execution_count": 9,
      "outputs": [
        {
          "output_type": "execute_result",
          "data": {
            "text/plain": [
              "((3870, 8), (3870,))"
            ]
          },
          "metadata": {
            "tags": []
          },
          "execution_count": 8
        },
        {
          "output_type": "execute_result",
          "data": {
            "text/plain": [
              "((3870, 8), (3870,))"
            ]
          },
          "metadata": {
            "tags": []
          },
          "execution_count": 9
        }
      ]
    },
    {
      "cell_type": "code",
      "metadata": {
        "colab": {
          "base_uri": "https://localhost:8080/"
        },
        "id": "B5hpB5wPJ8TG",
        "outputId": "d04106b7-9017-4786-e6f7-8ebcf74ab95e"
      },
      "source": [
        "X_test.shape, y_test.shape"
      ],
      "execution_count": 7,
      "outputs": [
        {
          "output_type": "execute_result",
          "data": {
            "text/plain": [
              "((5160, 8), (5160,))"
            ]
          },
          "metadata": {
            "tags": []
          },
          "execution_count": 7
        }
      ]
    },
    {
      "cell_type": "code",
      "metadata": {
        "id": "6RTHb2ZCUVAG"
      },
      "source": [
        "from sklearn.preprocessing import StandardScaler\n",
        "scaler=StandardScaler()\n",
        "X_train=scaler.fit_transform(X_train)\n",
        "X_valid=scaler.transform(X_valid)\n",
        "X_test=scaler.transform(X_test)"
      ],
      "execution_count": 12,
      "outputs": []
    },
    {
      "cell_type": "code",
      "metadata": {
        "id": "Qukdiu4_VodI"
      },
      "source": [
        "np.random.seed(23)\n",
        "tf.random.set_seed(23)"
      ],
      "execution_count": 13,
      "outputs": []
    },
    {
      "cell_type": "code",
      "metadata": {
        "id": "uZAPWAuoV3qn"
      },
      "source": [
        "model = tf.keras.Sequential([\n",
        "    keras.layers.Dense(30, activation=\"relu\", input_shape=[8]),\n",
        "    keras.layers.Dense(30, activation=\"relu\"),\n",
        "    keras.layers.Dense(1)\n",
        "])"
      ],
      "execution_count": 17,
      "outputs": []
    },
    {
      "cell_type": "code",
      "metadata": {
        "id": "nJNpcglCX7OT"
      },
      "source": [
        "model.compile(loss=\"mean_squared_error\",\n",
        "              optimizer=keras.optimizers.SGD(learning_rate=1e-3),\n",
        "              metrics=['mae'])"
      ],
      "execution_count": 18,
      "outputs": []
    },
    {
      "cell_type": "code",
      "metadata": {
        "colab": {
          "base_uri": "https://localhost:8080/"
        },
        "id": "vxo17EXcbUrQ",
        "outputId": "a87dfbb7-e846-469e-af52-9da7d5f29e41"
      },
      "source": [
        "model_history=model.fit(X_train,y_train, epochs=20, validation_data=(X_valid, y_valid))"
      ],
      "execution_count": 22,
      "outputs": [
        {
          "output_type": "stream",
          "text": [
            "Epoch 1/20\n",
            "363/363 [==============================] - 1s 2ms/step - loss: 1.8085 - mae: 0.9525 - val_loss: 1.0780 - val_mae: 0.7096\n",
            "Epoch 2/20\n",
            "363/363 [==============================] - 1s 2ms/step - loss: 0.7804 - mae: 0.6627 - val_loss: 0.7163 - val_mae: 0.6250\n",
            "Epoch 3/20\n",
            "363/363 [==============================] - 1s 2ms/step - loss: 0.6862 - mae: 0.6160 - val_loss: 0.6438 - val_mae: 0.5885\n",
            "Epoch 4/20\n",
            "363/363 [==============================] - 1s 2ms/step - loss: 0.6353 - mae: 0.5872 - val_loss: 0.6011 - val_mae: 0.5692\n",
            "Epoch 5/20\n",
            "363/363 [==============================] - 1s 2ms/step - loss: 0.5963 - mae: 0.5693 - val_loss: 0.5599 - val_mae: 0.5454\n",
            "Epoch 6/20\n",
            "363/363 [==============================] - 1s 1ms/step - loss: 0.5633 - mae: 0.5509 - val_loss: 0.5280 - val_mae: 0.5283\n",
            "Epoch 7/20\n",
            "363/363 [==============================] - 1s 1ms/step - loss: 0.5354 - mae: 0.5353 - val_loss: 0.5007 - val_mae: 0.5159\n",
            "Epoch 8/20\n",
            "363/363 [==============================] - 1s 1ms/step - loss: 0.5114 - mae: 0.5216 - val_loss: 0.4757 - val_mae: 0.5007\n",
            "Epoch 9/20\n",
            "363/363 [==============================] - 1s 2ms/step - loss: 0.4921 - mae: 0.5103 - val_loss: 0.4657 - val_mae: 0.4921\n",
            "Epoch 10/20\n",
            "363/363 [==============================] - 1s 1ms/step - loss: 0.4739 - mae: 0.4986 - val_loss: 0.4497 - val_mae: 0.4829\n",
            "Epoch 11/20\n",
            "363/363 [==============================] - 1s 2ms/step - loss: 0.4589 - mae: 0.4909 - val_loss: 0.4419 - val_mae: 0.4728\n",
            "Epoch 12/20\n",
            "363/363 [==============================] - 1s 2ms/step - loss: 0.4455 - mae: 0.4823 - val_loss: 0.4210 - val_mae: 0.4627\n",
            "Epoch 13/20\n",
            "363/363 [==============================] - 1s 2ms/step - loss: 0.4355 - mae: 0.4751 - val_loss: 0.4239 - val_mae: 0.4595\n",
            "Epoch 14/20\n",
            "363/363 [==============================] - 1s 2ms/step - loss: 0.4266 - mae: 0.4693 - val_loss: 0.4084 - val_mae: 0.4535\n",
            "Epoch 15/20\n",
            "363/363 [==============================] - 1s 1ms/step - loss: 0.4194 - mae: 0.4654 - val_loss: 0.4332 - val_mae: 0.4537\n",
            "Epoch 16/20\n",
            "363/363 [==============================] - 1s 2ms/step - loss: 0.4134 - mae: 0.4611 - val_loss: 0.4094 - val_mae: 0.4454\n",
            "Epoch 17/20\n",
            "363/363 [==============================] - 1s 2ms/step - loss: 0.4089 - mae: 0.4576 - val_loss: 0.4283 - val_mae: 0.4448\n",
            "Epoch 18/20\n",
            "363/363 [==============================] - 1s 2ms/step - loss: 0.4049 - mae: 0.4550 - val_loss: 0.4157 - val_mae: 0.4420\n",
            "Epoch 19/20\n",
            "363/363 [==============================] - 1s 2ms/step - loss: 0.4007 - mae: 0.4521 - val_loss: 0.4053 - val_mae: 0.4424\n",
            "Epoch 20/20\n",
            "363/363 [==============================] - 1s 2ms/step - loss: 0.3977 - mae: 0.4502 - val_loss: 0.4171 - val_mae: 0.4397\n"
          ],
          "name": "stdout"
        }
      ]
    },
    {
      "cell_type": "code",
      "metadata": {
        "colab": {
          "base_uri": "https://localhost:8080/"
        },
        "id": "3-PBCWdxcpQr",
        "outputId": "61754128-05e2-41ba-fa55-6ae01faeb240"
      },
      "source": [
        "mae_test=model.evaluate(X_test,y_test)"
      ],
      "execution_count": 23,
      "outputs": [
        {
          "output_type": "stream",
          "text": [
            "162/162 [==============================] - 0s 1ms/step - loss: 0.3881 - mae: 0.4423\n"
          ],
          "name": "stdout"
        }
      ]
    },
    {
      "cell_type": "code",
      "metadata": {
        "colab": {
          "base_uri": "https://localhost:8080/"
        },
        "id": "Idwl1kd1c9mj",
        "outputId": "69e868c8-a7f0-4126-d154-638fe1ad1c2d"
      },
      "source": [
        "model_history.history"
      ],
      "execution_count": 24,
      "outputs": [
        {
          "output_type": "execute_result",
          "data": {
            "text/plain": [
              "{'loss': [1.8084821701049805,\n",
              "  0.7804022431373596,\n",
              "  0.6862220168113708,\n",
              "  0.6352830529212952,\n",
              "  0.5963139533996582,\n",
              "  0.5633382797241211,\n",
              "  0.5353633165359497,\n",
              "  0.5113876461982727,\n",
              "  0.4921240508556366,\n",
              "  0.47393378615379333,\n",
              "  0.4589116871356964,\n",
              "  0.4455120265483856,\n",
              "  0.435467928647995,\n",
              "  0.42660436034202576,\n",
              "  0.41938358545303345,\n",
              "  0.41336584091186523,\n",
              "  0.4088760018348694,\n",
              "  0.40490981936454773,\n",
              "  0.40071168541908264,\n",
              "  0.3976595997810364],\n",
              " 'mae': [0.9524667859077454,\n",
              "  0.6626631617546082,\n",
              "  0.615996241569519,\n",
              "  0.5872380137443542,\n",
              "  0.5693410634994507,\n",
              "  0.5509178638458252,\n",
              "  0.5352884531021118,\n",
              "  0.5216318964958191,\n",
              "  0.5103168487548828,\n",
              "  0.49859121441841125,\n",
              "  0.49087655544281006,\n",
              "  0.48229220509529114,\n",
              "  0.47511327266693115,\n",
              "  0.4692850410938263,\n",
              "  0.4653577208518982,\n",
              "  0.4610944986343384,\n",
              "  0.4575583040714264,\n",
              "  0.4550122916698456,\n",
              "  0.45211875438690186,\n",
              "  0.45017021894454956],\n",
              " 'val_loss': [1.0780458450317383,\n",
              "  0.7162770628929138,\n",
              "  0.6437547206878662,\n",
              "  0.6011385321617126,\n",
              "  0.5598994493484497,\n",
              "  0.5280085206031799,\n",
              "  0.500730037689209,\n",
              "  0.47568032145500183,\n",
              "  0.4657461941242218,\n",
              "  0.4496717154979706,\n",
              "  0.44190672039985657,\n",
              "  0.4210222065448761,\n",
              "  0.4238540828227997,\n",
              "  0.40844810009002686,\n",
              "  0.43321558833122253,\n",
              "  0.4093790650367737,\n",
              "  0.4283197224140167,\n",
              "  0.4156898856163025,\n",
              "  0.4052804112434387,\n",
              "  0.41707542538642883],\n",
              " 'val_mae': [0.709642231464386,\n",
              "  0.6249685287475586,\n",
              "  0.588520348072052,\n",
              "  0.5692197680473328,\n",
              "  0.5453986525535583,\n",
              "  0.5282762050628662,\n",
              "  0.5159050226211548,\n",
              "  0.500664472579956,\n",
              "  0.4920676052570343,\n",
              "  0.482918381690979,\n",
              "  0.4727911651134491,\n",
              "  0.4626825153827667,\n",
              "  0.4594627022743225,\n",
              "  0.45346686244010925,\n",
              "  0.453739732503891,\n",
              "  0.4454187750816345,\n",
              "  0.4447796046733856,\n",
              "  0.442033588886261,\n",
              "  0.4423784017562866,\n",
              "  0.43972739577293396]}"
            ]
          },
          "metadata": {
            "tags": []
          },
          "execution_count": 24
        }
      ]
    },
    {
      "cell_type": "code",
      "metadata": {
        "colab": {
          "base_uri": "https://localhost:8080/",
          "height": 269
        },
        "id": "EF7DkoekdB-B",
        "outputId": "809efbb7-5385-41f2-9560-d0c214021e8a"
      },
      "source": [
        "pd.DataFrame(model_history.history).plot(kind='line')\n",
        "plt.grid(True)\n",
        "plt.gca().set_ylim(0,1)\n",
        "plt.show()"
      ],
      "execution_count": 29,
      "outputs": [
        {
          "output_type": "display_data",
          "data": {
            "image/png": "[encoded data removed]",
            "text/plain": [
              "<Figure size 432x288 with 1 Axes>"
            ]
          },
          "metadata": {
            "tags": [],
            "needs_background": "light"
          }
        }
      ]
    },
    {
      "cell_type": "code",
      "metadata": {
        "colab": {
          "base_uri": "https://localhost:8080/"
        },
        "id": "fGWAi_tEezF8",
        "outputId": "eb76bda3-e1fe-4384-e4a7-d9f68fdfdf43"
      },
      "source": [
        "y_predict=model.predict(X_test)\n",
        "y_predict,y_test"
      ],
      "execution_count": 32,
      "outputs": [
        {
          "output_type": "execute_result",
          "data": {
            "text/plain": [
              "(array([[0.63421494],\n",
              "        [1.7092164 ],\n",
              "        [3.495289  ],\n",
              "        ...,\n",
              "        [1.4020184 ],\n",
              "        [2.5113611 ],\n",
              "        [3.8512857 ]], dtype=float32),\n",
              " array([0.477  , 0.458  , 5.00001, ..., 1.177  , 2.631  , 4.815  ]))"
            ]
          },
          "metadata": {
            "tags": []
          },
          "execution_count": 32
        }
      ]
    }
  ]
}